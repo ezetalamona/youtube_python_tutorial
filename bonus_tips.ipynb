{
 "cells": [
  {
   "cell_type": "code",
   "execution_count": 7,
   "metadata": {},
   "outputs": [],
   "source": [
    "import pandas as pd\n",
    "import datetime"
   ]
  },
  {
   "cell_type": "markdown",
   "metadata": {},
   "source": [
    "# 1. Manejo de Fechas con Pandas"
   ]
  },
  {
   "cell_type": "code",
   "execution_count": 2,
   "metadata": {},
   "outputs": [
    {
     "name": "stdout",
     "output_type": "stream",
     "text": [
      "       fecha\n",
      "0 2023-01-01\n",
      "1 2023-01-02\n",
      "2 2023-01-03\n"
     ]
    }
   ],
   "source": [
    "import pandas as pd\n",
    "\n",
    "# Crear un DataFrame de ejemplo con una columna de fecha en formato de cadena\n",
    "data = {'fecha': ['2023-01-01', '2023-01-02', '2023-01-03']}\n",
    "df = pd.DataFrame(data)\n",
    "\n",
    "# Convertir la columna 'fecha' a objetos de fecha\n",
    "df['fecha'] = pd.to_datetime(df['fecha'])\n",
    "\n",
    "print(df)"
   ]
  },
  {
   "cell_type": "code",
   "execution_count": 3,
   "metadata": {},
   "outputs": [
    {
     "name": "stdout",
     "output_type": "stream",
     "text": [
      "       fecha  dia  mes  anio\n",
      "0 2023-01-01    1    1  2023\n",
      "1 2023-01-02    2    1  2023\n",
      "2 2023-01-03    3    1  2023\n"
     ]
    }
   ],
   "source": [
    "# Extraer el día, mes y año en columnas separadas\n",
    "df['dia'] = df['fecha'].dt.day\n",
    "df['mes'] = df['fecha'].dt.month\n",
    "df['anio'] = df['fecha'].dt.year\n",
    "\n",
    "print(df)"
   ]
  },
  {
   "cell_type": "code",
   "execution_count": 4,
   "metadata": {},
   "outputs": [
    {
     "name": "stdout",
     "output_type": "stream",
     "text": [
      "       fecha  dia  mes  anio diferencia_dias\n",
      "0 2023-01-01    1    1  2023          0 days\n",
      "1 2023-01-02    2    1  2023          1 days\n",
      "2 2023-01-03    3    1  2023          2 days\n"
     ]
    }
   ],
   "source": [
    "# Calcular la diferencia entre fechas y almacenarla en una nueva columna\n",
    "df['diferencia_dias'] = df['fecha'] - pd.to_datetime('2023-01-01')\n",
    "\n",
    "print(df)"
   ]
  },
  {
   "cell_type": "code",
   "execution_count": 11,
   "metadata": {},
   "outputs": [],
   "source": [
    "from datetime import datetime\n",
    "\n",
    "current_date = datetime.now()"
   ]
  },
  {
   "cell_type": "code",
   "execution_count": 13,
   "metadata": {},
   "outputs": [
    {
     "data": {
      "text/plain": [
       "0   395 days 20:33:14.413678\n",
       "1   394 days 20:33:14.413678\n",
       "2   393 days 20:33:14.413678\n",
       "Name: fecha, dtype: timedelta64[ns]"
      ]
     },
     "execution_count": 13,
     "metadata": {},
     "output_type": "execute_result"
    }
   ],
   "source": [
    "current_date - df['fecha']"
   ]
  },
  {
   "cell_type": "markdown",
   "metadata": {},
   "source": [
    "Estas son solo algunas de las operaciones básicas que puedes realizar con fechas en Pandas. Dependiendo de tus necesidades, hay muchas otras funciones y métodos disponibles para manipular y analizar datos temporales."
   ]
  },
  {
   "cell_type": "markdown",
   "metadata": {},
   "source": [
    "# 2. Mediciones de Tiempo utilizando timeit"
   ]
  },
  {
   "cell_type": "markdown",
   "metadata": {},
   "source": [
    "1. Definimos la operación que queremos medir, que es la suma de una lista de números. Usamos una cadena de formato para ajustar el tamaño de la lista.\n",
    "2. Creamos una lista de tamaños de listas a probar.\n",
    "3. Iteramos sobre los tamaños de lista, midiendo el tiempo de ejecución para cada uno.\n",
    "4. Utilizamos la función timeit.timeit() para medir el tiempo de ejecución. El parámetro stmt toma la operación a medir, y number especifica cuántas veces se ejecutará la operación para calcular un tiempo promedio.\n",
    "5. Graficamos los resultados usando matplotlib. Usamos una escala logarítmica en el eje x para manejar mejor la variación en los tamaños de la lista."
   ]
  },
  {
   "cell_type": "code",
   "execution_count": 14,
   "metadata": {},
   "outputs": [],
   "source": [
    "import timeit\n",
    "import matplotlib.pyplot as plt"
   ]
  },
  {
   "cell_type": "code",
   "execution_count": 15,
   "metadata": {},
   "outputs": [
    {
     "name": "stdout",
     "output_type": "stream",
     "text": [
      "3\n",
      "4\n",
      "5\n"
     ]
    }
   ],
   "source": [
    "x = range(3, 6)\n",
    "for n in x:\n",
    "  print(n)"
   ]
  },
  {
   "cell_type": "code",
   "execution_count": 16,
   "metadata": {},
   "outputs": [
    {
     "data": {
      "text/plain": [
       "12"
      ]
     },
     "execution_count": 16,
     "metadata": {},
     "output_type": "execute_result"
    }
   ],
   "source": [
    "sum(x)"
   ]
  },
  {
   "cell_type": "code",
   "execution_count": 17,
   "metadata": {},
   "outputs": [
    {
     "data": {
      "image/png": "[encoded data removed]",
      "text/plain": [
       "<Figure size 640x480 with 1 Axes>"
      ]
     },
     "metadata": {},
     "output_type": "display_data"
    }
   ],
   "source": [
    "# Operación: Suma de una lista de números\n",
    "operacion = \"\"\"\n",
    "# Código que quieres medir el tiempo\n",
    "suma = sum(range({tamano}))\n",
    "\"\"\"\n",
    "\n",
    "# Tamaños de las listas a probar\n",
    "# La notación 10**i significa \"10 elevado a la potencia i\". Es una forma abreviada de expresar potencias de 10 en Python. Por ejemplo: 10**1 es igual a 10.\n",
    "tamanos_listas = [10**i for i in range(1, 6)]\n",
    "\n",
    "# Almacena los tiempos de ejecución\n",
    "tiempos_ejecucion = []\n",
    "\n",
    "# Realiza la medición para cada tamaño de lista\n",
    "for tamano in tamanos_listas:\n",
    "    tiempo = timeit.timeit(stmt=operacion.format(tamano=tamano), number=1000)\n",
    "    tiempos_ejecucion.append(tiempo)\n",
    "\n",
    "# Grafica los resultados\n",
    "plt.plot(tamanos_listas, tiempos_ejecucion, marker='o')\n",
    "plt.xscale('log')  # Escala logarítmica para mostrar mejor la variación\n",
    "plt.xlabel('Tamaño de la Lista')\n",
    "plt.ylabel('Tiempo de Ejecución (segundos)')\n",
    "plt.title('Medición de Tiempo con timeit')\n",
    "plt.show()"
   ]
  },
  {
   "cell_type": "markdown",
   "metadata": {},
   "source": [
    "# 3. Visualización Interactiva con Plotly en Python"
   ]
  },
  {
   "cell_type": "code",
   "execution_count": 18,
   "metadata": {},
   "outputs": [],
   "source": [
    "# pip install plotly\n",
    "# pip install nbformat\n",
    "\n",
    "import plotly.express as px\n",
    "import pandas as pd"
   ]
  },
  {
   "cell_type": "code",
   "execution_count": 19,
   "metadata": {},
   "outputs": [
    {
     "data": {
      "application/vnd.plotly.v1+json": {
       "config": {
        "plotlyServerURL": "https://plot.ly"
       },
       "data": [
        {
         "hovertemplate": "X=%{x}<br>Y=%{y}<br>Label=%{text}<extra></extra>",
         "legendgroup": "",
         "marker": {
          "color": "#636efa",
          "symbol": "circle"
         },
         "mode": "markers+text",
         "name": "",
         "orientation": "v",
         "showlegend": false,
         "text": [
          "A",
          "B",
          "C",
          "D",
          "E"
         ],
         "textposition": "top center",
         "type": "scatter",
         "x": [
          1,
          2,
          3,
          4,
          5
         ],
         "xaxis": "x",
         "y": [
          10,
          11,
          12,
          13,
          14
         ],
         "yaxis": "y"
        }
       ],
       "layout": {
        "legend": {
         "tracegroupgap": 0
        },
        "template": {
         "data": {
          "bar": [
           {
            "error_x": {
             "color": "#2a3f5f"
            },
            "error_y": {
             "color": "#2a3f5f"
            },
            "marker": {
             "line": {
              "color": "#E5ECF6",
              "width": 0.5
             },
             "pattern": {
              "fillmode": "overlay",
              "size": 10,
              "solidity": 0.2
             }
            },
            "type": "bar"
           }
          ],
          "barpolar": [
           {
            "marker": {
             "line": {
              "color": "#E5ECF6",
              "width": 0.5
             },
             "pattern": {
              "fillmode": "overlay",
              "size": 10,
              "solidity": 0.2
             }
            },
            "type": "barpolar"
           }
          ],
          "carpet": [
           {
            "aaxis": {
             "endlinecolor": "#2a3f5f",
             "gridcolor": "white",
             "linecolor": "white",
             "minorgridcolor": "white",
             "startlinecolor": "#2a3f5f"
            },
            "baxis": {
             "endlinecolor": "#2a3f5f",
             "gridcolor": "white",
             "linecolor": "white",
             "minorgridcolor": "white",
             "startlinecolor": "#2a3f5f"
            },
            "type": "carpet"
           }
          ],
          "choropleth": [
           {
            "colorbar": {
             "outlinewidth": 0,
             "ticks": ""
            },
            "type": "choropleth"
           }
          ],
          "contour": [
           {
            "colorbar": {
             "outlinewidth": 0,
             "ticks": ""
            },
            "colorscale": [
             [
              0,
              "#0d0887"
             ],
             [
              0.1111111111111111,
              "#46039f"
             ],
             [
              0.2222222222222222,
              "#7201a8"
             ],
             [
              0.3333333333333333,
              "#9c179e"
             ],
             [
              0.4444444444444444,
              "#bd3786"
             ],
             [
              0.5555555555555556,
              "#d8576b"
             ],
             [
              0.6666666666666666,
              "#ed7953"
             ],
             [
              0.7777777777777778,
              "#fb9f3a"
             ],
             [
              0.8888888888888888,
              "#fdca26"
             ],
             [
              1,
              "#f0f921"
             ]
            ],
            "type": "contour"
           }
          ],
          "contourcarpet": [
           {
            "colorbar": {
             "outlinewidth": 0,
             "ticks": ""
            },
            "type": "contourcarpet"
           }
          ],
          "heatmap": [
           {
            "colorbar": {
             "outlinewidth": 0,
             "ticks": ""
            },
            "colorscale": [
             [
              0,
              "#0d0887"
             ],
             [
              0.1111111111111111,
              "#46039f"
             ],
             [
              0.2222222222222222,
              "#7201a8"
             ],
             [
              0.3333333333333333,
              "#9c179e"
             ],
             [
              0.4444444444444444,
              "#bd3786"
             ],
             [
              0.5555555555555556,
              "#d8576b"
             ],
             [
              0.6666666666666666,
              "#ed7953"
             ],
             [
              0.7777777777777778,
              "#fb9f3a"
             ],
             [
              0.8888888888888888,
              "#fdca26"
             ],
             [
              1,
              "#f0f921"
             ]
            ],
            "type": "heatmap"
           }
          ],
          "heatmapgl": [
           {
            "colorbar": {
             "outlinewidth": 0,
             "ticks": ""
            },
            "colorscale": [
             [
              0,
              "#0d0887"
             ],
             [
              0.1111111111111111,
              "#46039f"
             ],
             [
              0.2222222222222222,
              "#7201a8"
             ],
             [
              0.3333333333333333,
              "#9c179e"
             ],
             [
              0.4444444444444444,
              "#bd3786"
             ],
             [
              0.5555555555555556,
              "#d8576b"
             ],
             [
              0.6666666666666666,
              "#ed7953"
             ],
             [
              0.7777777777777778,
              "#fb9f3a"
             ],
             [
              0.8888888888888888,
              "#fdca26"
             ],
             [
              1,
              "#f0f921"
             ]
            ],
            "type": "heatmapgl"
           }
          ],
          "histogram": [
           {
            "marker": {
             "pattern": {
              "fillmode": "overlay",
              "size": 10,
              "solidity": 0.2
             }
            },
            "type": "histogram"
           }
          ],
          "histogram2d": [
           {
            "colorbar": {
             "outlinewidth": 0,
             "ticks": ""
            },
            "colorscale": [
             [
              0,
              "#0d0887"
             ],
             [
              0.1111111111111111,
              "#46039f"
             ],
             [
              0.2222222222222222,
              "#7201a8"
             ],
             [
              0.3333333333333333,
              "#9c179e"
             ],
             [
              0.4444444444444444,
              "#bd3786"
             ],
             [
              0.5555555555555556,
              "#d8576b"
             ],
             [
              0.6666666666666666,
              "#ed7953"
             ],
             [
              0.7777777777777778,
              "#fb9f3a"
             ],
             [
              0.8888888888888888,
              "#fdca26"
             ],
             [
              1,
              "#f0f921"
             ]
            ],
            "type": "histogram2d"
           }
          ],
          "histogram2dcontour": [
           {
            "colorbar": {
             "outlinewidth": 0,
             "ticks": ""
            },
            "colorscale": [
             [
              0,
              "#0d0887"
             ],
             [
              0.1111111111111111,
              "#46039f"
             ],
             [
              0.2222222222222222,
              "#7201a8"
             ],
             [
              0.3333333333333333,
              "#9c179e"
             ],
             [
              0.4444444444444444,
              "#bd3786"
             ],
             [
              0.5555555555555556,
              "#d8576b"
             ],
             [
              0.6666666666666666,
              "#ed7953"
             ],
             [
              0.7777777777777778,
              "#fb9f3a"
             ],
             [
              0.8888888888888888,
              "#fdca26"
             ],
             [
              1,
              "#f0f921"
             ]
            ],
            "type": "histogram2dcontour"
           }
          ],
          "mesh3d": [
           {
            "colorbar": {
             "outlinewidth": 0,
             "ticks": ""
            },
            "type": "mesh3d"
           }
          ],
          "parcoords": [
           {
            "line": {
             "colorbar": {
              "outlinewidth": 0,
              "ticks": ""
             }
            },
            "type": "parcoords"
           }
          ],
          "pie": [
           {
            "automargin": true,
            "type": "pie"
           }
          ],
          "scatter": [
           {
            "fillpattern": {
             "fillmode": "overlay",
             "size": 10,
             "solidity": 0.2
            },
            "type": "scatter"
           }
          ],
          "scatter3d": [
           {
            "line": {
             "colorbar": {
              "outlinewidth": 0,
              "ticks": ""
             }
            },
            "marker": {
             "colorbar": {
              "outlinewidth": 0,
              "ticks": ""
             }
            },
            "type": "scatter3d"
           }
          ],
          "scattercarpet": [
           {
            "marker": {
             "colorbar": {
              "outlinewidth": 0,
              "ticks": ""
             }
            },
            "type": "scattercarpet"
           }
          ],
          "scattergeo": [
           {
            "marker": {
             "colorbar": {
              "outlinewidth": 0,
              "ticks": ""
             }
            },
            "type": "scattergeo"
           }
          ],
          "scattergl": [
           {
            "marker": {
             "colorbar": {
              "outlinewidth": 0,
              "ticks": ""
             }
            },
            "type": "scattergl"
           }
          ],
          "scattermapbox": [
           {
            "marker": {
             "colorbar": {
              "outlinewidth": 0,
              "ticks": ""
             }
            },
            "type": "scattermapbox"
           }
          ],
          "scatterpolar": [
           {
            "marker": {
             "colorbar": {
              "outlinewidth": 0,
              "ticks": ""
             }
            },
            "type": "scatterpolar"
           }
          ],
          "scatterpolargl": [
           {
            "marker": {
             "colorbar": {
              "outlinewidth": 0,
              "ticks": ""
             }
            },
            "type": "scatterpolargl"
           }
          ],
          "scatterternary": [
           {
            "marker": {
             "colorbar": {
              "outlinewidth": 0,
              "ticks": ""
             }
            },
            "type": "scatterternary"
           }
          ],
          "surface": [
           {
            "colorbar": {
             "outlinewidth": 0,
             "ticks": ""
            },
            "colorscale": [
             [
              0,
              "#0d0887"
             ],
             [
              0.1111111111111111,
              "#46039f"
             ],
             [
              0.2222222222222222,
              "#7201a8"
             ],
             [
              0.3333333333333333,
              "#9c179e"
             ],
             [
              0.4444444444444444,
              "#bd3786"
             ],
             [
              0.5555555555555556,
              "#d8576b"
             ],
             [
              0.6666666666666666,
              "#ed7953"
             ],
             [
              0.7777777777777778,
              "#fb9f3a"
             ],
             [
              0.8888888888888888,
              "#fdca26"
             ],
             [
              1,
              "#f0f921"
             ]
            ],
            "type": "surface"
           }
          ],
          "table": [
           {
            "cells": {
             "fill": {
              "color": "#EBF0F8"
             },
             "line": {
              "color": "white"
             }
            },
            "header": {
             "fill": {
              "color": "#C8D4E3"
             },
             "line": {
              "color": "white"
             }
            },
            "type": "table"
           }
          ]
         },
         "layout": {
          "annotationdefaults": {
           "arrowcolor": "#2a3f5f",
           "arrowhead": 0,
           "arrowwidth": 1
          },
          "autotypenumbers": "strict",
          "coloraxis": {
           "colorbar": {
            "outlinewidth": 0,
            "ticks": ""
           }
          },
          "colorscale": {
           "diverging": [
            [
             0,
             "#8e0152"
            ],
            [
             0.1,
             "#c51b7d"
            ],
            [
             0.2,
             "#de77ae"
            ],
            [
             0.3,
             "#f1b6da"
            ],
            [
             0.4,
             "#fde0ef"
            ],
            [
             0.5,
             "#f7f7f7"
            ],
            [
             0.6,
             "#e6f5d0"
            ],
            [
             0.7,
             "#b8e186"
            ],
            [
             0.8,
             "#7fbc41"
            ],
            [
             0.9,
             "#4d9221"
            ],
            [
             1,
             "#276419"
            ]
           ],
           "sequential": [
            [
             0,
             "#0d0887"
            ],
            [
             0.1111111111111111,
             "#46039f"
            ],
            [
             0.2222222222222222,
             "#7201a8"
            ],
            [
             0.3333333333333333,
             "#9c179e"
            ],
            [
             0.4444444444444444,
             "#bd3786"
            ],
            [
             0.5555555555555556,
             "#d8576b"
            ],
            [
             0.6666666666666666,
             "#ed7953"
            ],
            [
             0.7777777777777778,
             "#fb9f3a"
            ],
            [
             0.8888888888888888,
             "#fdca26"
            ],
            [
             1,
             "#f0f921"
            ]
           ],
           "sequentialminus": [
            [
             0,
             "#0d0887"
            ],
            [
             0.1111111111111111,
             "#46039f"
            ],
            [
             0.2222222222222222,
             "#7201a8"
            ],
            [
             0.3333333333333333,
             "#9c179e"
            ],
            [
             0.4444444444444444,
             "#bd3786"
            ],
            [
             0.5555555555555556,
             "#d8576b"
            ],
            [
             0.6666666666666666,
             "#ed7953"
            ],
            [
             0.7777777777777778,
             "#fb9f3a"
            ],
            [
             0.8888888888888888,
             "#fdca26"
            ],
            [
             1,
             "#f0f921"
            ]
           ]
          },
          "colorway": [
           "#636efa",
           "#EF553B",
           "#00cc96",
           "#ab63fa",
           "#FFA15A",
           "#19d3f3",
           "#FF6692",
           "#B6E880",
           "#FF97FF",
           "#FECB52"
          ],
          "font": {
           "color": "#2a3f5f"
          },
          "geo": {
           "bgcolor": "white",
           "lakecolor": "white",
           "landcolor": "#E5ECF6",
           "showlakes": true,
           "showland": true,
           "subunitcolor": "white"
          },
          "hoverlabel": {
           "align": "left"
          },
          "hovermode": "closest",
          "mapbox": {
           "style": "light"
          },
          "paper_bgcolor": "white",
          "plot_bgcolor": "#E5ECF6",
          "polar": {
           "angularaxis": {
            "gridcolor": "white",
            "linecolor": "white",
            "ticks": ""
           },
           "bgcolor": "#E5ECF6",
           "radialaxis": {
            "gridcolor": "white",
            "linecolor": "white",
            "ticks": ""
           }
          },
          "scene": {
           "xaxis": {
            "backgroundcolor": "#E5ECF6",
            "gridcolor": "white",
            "gridwidth": 2,
            "linecolor": "white",
            "showbackground": true,
            "ticks": "",
            "zerolinecolor": "white"
           },
           "yaxis": {
            "backgroundcolor": "#E5ECF6",
            "gridcolor": "white",
            "gridwidth": 2,
            "linecolor": "white",
            "showbackground": true,
            "ticks": "",
            "zerolinecolor": "white"
           },
           "zaxis": {
            "backgroundcolor": "#E5ECF6",
            "gridcolor": "white",
            "gridwidth": 2,
            "linecolor": "white",
            "showbackground": true,
            "ticks": "",
            "zerolinecolor": "white"
           }
          },
          "shapedefaults": {
           "line": {
            "color": "#2a3f5f"
           }
          },
          "ternary": {
           "aaxis": {
            "gridcolor": "white",
            "linecolor": "white",
            "ticks": ""
           },
           "baxis": {
            "gridcolor": "white",
            "linecolor": "white",
            "ticks": ""
           },
           "bgcolor": "#E5ECF6",
           "caxis": {
            "gridcolor": "white",
            "linecolor": "white",
            "ticks": ""
           }
          },
          "title": {
           "x": 0.05
          },
          "xaxis": {
           "automargin": true,
           "gridcolor": "white",
           "linecolor": "white",
           "ticks": "",
           "title": {
            "standoff": 15
           },
           "zerolinecolor": "white",
           "zerolinewidth": 2
          },
          "yaxis": {
           "automargin": true,
           "gridcolor": "white",
           "linecolor": "white",
           "ticks": "",
           "title": {
            "standoff": 15
           },
           "zerolinecolor": "white",
           "zerolinewidth": 2
          }
         }
        },
        "title": {
         "text": "Gráfico de Dispersión Interactivo"
        },
        "xaxis": {
         "anchor": "y",
         "domain": [
          0,
          1
         ],
         "title": {
          "text": "X"
         }
        },
        "yaxis": {
         "anchor": "x",
         "domain": [
          0,
          1
         ],
         "title": {
          "text": "Y"
         }
        }
       }
      }
     },
     "metadata": {},
     "output_type": "display_data"
    }
   ],
   "source": [
    "# Crear un DataFrame de ejemplo\n",
    "df = pd.DataFrame({\n",
    "    'X': [1, 2, 3, 4, 5],\n",
    "    'Y': [10, 11, 12, 13, 14],\n",
    "    'Label': ['A', 'B', 'C', 'D', 'E']\n",
    "})\n",
    "\n",
    "# Crear un gráfico de dispersión interactivo con etiquetas\n",
    "fig = px.scatter(df, x='X', y='Y', text='Label', title='Gráfico de Dispersión Interactivo')\n",
    "\n",
    "# Actualizar diseño del gráfico\n",
    "fig.update_traces(textposition='top center')\n",
    "\n",
    "# Mostrar el gráfico interactivo\n",
    "fig.show()"
   ]
  },
  {
   "cell_type": "code",
   "execution_count": 20,
   "metadata": {},
   "outputs": [
    {
     "data": {
      "application/vnd.plotly.v1+json": {
       "config": {
        "plotlyServerURL": "https://plot.ly"
       },
       "data": [
        {
         "alignmentgroup": "True",
         "hovertemplate": "País=%{x}<br>Población (millones)=%{y}<extra></extra>",
         "legendgroup": "",
         "marker": {
          "color": "#636efa",
          "pattern": {
           "shape": ""
          }
         },
         "name": "",
         "offsetgroup": "",
         "orientation": "v",
         "showlegend": false,
         "textposition": "auto",
         "type": "bar",
         "x": [
          "Estados Unidos",
          "China",
          "India",
          "Brasil",
          "Rusia"
         ],
         "xaxis": "x",
         "y": [
          331,
          1441,
          1393,
          213,
          146
         ],
         "yaxis": "y"
        }
       ],
       "layout": {
        "barmode": "relative",
        "legend": {
         "tracegroupgap": 0
        },
        "template": {
         "data": {
          "bar": [
           {
            "error_x": {
             "color": "#2a3f5f"
            },
            "error_y": {
             "color": "#2a3f5f"
            },
            "marker": {
             "line": {
              "color": "#E5ECF6",
              "width": 0.5
             },
             "pattern": {
              "fillmode": "overlay",
              "size": 10,
              "solidity": 0.2
             }
            },
            "type": "bar"
           }
          ],
          "barpolar": [
           {
            "marker": {
             "line": {
              "color": "#E5ECF6",
              "width": 0.5
             },
             "pattern": {
              "fillmode": "overlay",
              "size": 10,
              "solidity": 0.2
             }
            },
            "type": "barpolar"
           }
          ],
          "carpet": [
           {
            "aaxis": {
             "endlinecolor": "#2a3f5f",
             "gridcolor": "white",
             "linecolor": "white",
             "minorgridcolor": "white",
             "startlinecolor": "#2a3f5f"
            },
            "baxis": {
             "endlinecolor": "#2a3f5f",
             "gridcolor": "white",
             "linecolor": "white",
             "minorgridcolor": "white",
             "startlinecolor": "#2a3f5f"
            },
            "type": "carpet"
           }
          ],
          "choropleth": [
           {
            "colorbar": {
             "outlinewidth": 0,
             "ticks": ""
            },
            "type": "choropleth"
           }
          ],
          "contour": [
           {
            "colorbar": {
             "outlinewidth": 0,
             "ticks": ""
            },
            "colorscale": [
             [
              0,
              "#0d0887"
             ],
             [
              0.1111111111111111,
              "#46039f"
             ],
             [
              0.2222222222222222,
              "#7201a8"
             ],
             [
              0.3333333333333333,
              "#9c179e"
             ],
             [
              0.4444444444444444,
              "#bd3786"
             ],
             [
              0.5555555555555556,
              "#d8576b"
             ],
             [
              0.6666666666666666,
              "#ed7953"
             ],
             [
              0.7777777777777778,
              "#fb9f3a"
             ],
             [
              0.8888888888888888,
              "#fdca26"
             ],
             [
              1,
              "#f0f921"
             ]
            ],
            "type": "contour"
           }
          ],
          "contourcarpet": [
           {
            "colorbar": {
             "outlinewidth": 0,
             "ticks": ""
            },
            "type": "contourcarpet"
           }
          ],
          "heatmap": [
           {
            "colorbar": {
             "outlinewidth": 0,
             "ticks": ""
            },
            "colorscale": [
             [
              0,
              "#0d0887"
             ],
             [
              0.1111111111111111,
              "#46039f"
             ],
             [
              0.2222222222222222,
              "#7201a8"
             ],
             [
              0.3333333333333333,
              "#9c179e"
             ],
             [
              0.4444444444444444,
              "#bd3786"
             ],
             [
              0.5555555555555556,
              "#d8576b"
             ],
             [
              0.6666666666666666,
              "#ed7953"
             ],
             [
              0.7777777777777778,
              "#fb9f3a"
             ],
             [
              0.8888888888888888,
              "#fdca26"
             ],
             [
              1,
              "#f0f921"
             ]
            ],
            "type": "heatmap"
           }
          ],
          "heatmapgl": [
           {
            "colorbar": {
             "outlinewidth": 0,
             "ticks": ""
            },
            "colorscale": [
             [
              0,
              "#0d0887"
             ],
             [
              0.1111111111111111,
              "#46039f"
             ],
             [
              0.2222222222222222,
              "#7201a8"
             ],
             [
              0.3333333333333333,
              "#9c179e"
             ],
             [
              0.4444444444444444,
              "#bd3786"
             ],
             [
              0.5555555555555556,
              "#d8576b"
             ],
             [
              0.6666666666666666,
              "#ed7953"
             ],
             [
              0.7777777777777778,
              "#fb9f3a"
             ],
             [
              0.8888888888888888,
              "#fdca26"
             ],
             [
              1,
              "#f0f921"
             ]
            ],
            "type": "heatmapgl"
           }
          ],
          "histogram": [
           {
            "marker": {
             "pattern": {
              "fillmode": "overlay",
              "size": 10,
              "solidity": 0.2
             }
            },
            "type": "histogram"
           }
          ],
          "histogram2d": [
           {
            "colorbar": {
             "outlinewidth": 0,
             "ticks": ""
            },
            "colorscale": [
             [
              0,
              "#0d0887"
             ],
             [
              0.1111111111111111,
              "#46039f"
             ],
             [
              0.2222222222222222,
              "#7201a8"
             ],
             [
              0.3333333333333333,
              "#9c179e"
             ],
             [
              0.4444444444444444,
              "#bd3786"
             ],
             [
              0.5555555555555556,
              "#d8576b"
             ],
             [
              0.6666666666666666,
              "#ed7953"
             ],
             [
              0.7777777777777778,
              "#fb9f3a"
             ],
             [
              0.8888888888888888,
              "#fdca26"
             ],
             [
              1,
              "#f0f921"
             ]
            ],
            "type": "histogram2d"
           }
          ],
          "histogram2dcontour": [
           {
            "colorbar": {
             "outlinewidth": 0,
             "ticks": ""
            },
            "colorscale": [
             [
              0,
              "#0d0887"
             ],
             [
              0.1111111111111111,
              "#46039f"
             ],
             [
              0.2222222222222222,
              "#7201a8"
             ],
             [
              0.3333333333333333,
              "#9c179e"
             ],
             [
              0.4444444444444444,
              "#bd3786"
             ],
             [
              0.5555555555555556,
              "#d8576b"
             ],
             [
              0.6666666666666666,
              "#ed7953"
             ],
             [
              0.7777777777777778,
              "#fb9f3a"
             ],
             [
              0.8888888888888888,
              "#fdca26"
             ],
             [
              1,
              "#f0f921"
             ]
            ],
            "type": "histogram2dcontour"
           }
          ],
          "mesh3d": [
           {
            "colorbar": {
             "outlinewidth": 0,
             "ticks": ""
            },
            "type": "mesh3d"
           }
          ],
          "parcoords": [
           {
            "line": {
             "colorbar": {
              "outlinewidth": 0,
              "ticks": ""
             }
            },
            "type": "parcoords"
           }
          ],
          "pie": [
           {
            "automargin": true,
            "type": "pie"
           }
          ],
          "scatter": [
           {
            "fillpattern": {
             "fillmode": "overlay",
             "size": 10,
             "solidity": 0.2
            },
            "type": "scatter"
           }
          ],
          "scatter3d": [
           {
            "line": {
             "colorbar": {
              "outlinewidth": 0,
              "ticks": ""
             }
            },
            "marker": {
             "colorbar": {
              "outlinewidth": 0,
              "ticks": ""
             }
            },
            "type": "scatter3d"
           }
          ],
          "scattercarpet": [
           {
            "marker": {
             "colorbar": {
              "outlinewidth": 0,
              "ticks": ""
             }
            },
            "type": "scattercarpet"
           }
          ],
          "scattergeo": [
           {
            "marker": {
             "colorbar": {
              "outlinewidth": 0,
              "ticks": ""
             }
            },
            "type": "scattergeo"
           }
          ],
          "scattergl": [
           {
            "marker": {
             "colorbar": {
              "outlinewidth": 0,
              "ticks": ""
             }
            },
            "type": "scattergl"
           }
          ],
          "scattermapbox": [
           {
            "marker": {
             "colorbar": {
              "outlinewidth": 0,
              "ticks": ""
             }
            },
            "type": "scattermapbox"
           }
          ],
          "scatterpolar": [
           {
            "marker": {
             "colorbar": {
              "outlinewidth": 0,
              "ticks": ""
             }
            },
            "type": "scatterpolar"
           }
          ],
          "scatterpolargl": [
           {
            "marker": {
             "colorbar": {
              "outlinewidth": 0,
              "ticks": ""
             }
            },
            "type": "scatterpolargl"
           }
          ],
          "scatterternary": [
           {
            "marker": {
             "colorbar": {
              "outlinewidth": 0,
              "ticks": ""
             }
            },
            "type": "scatterternary"
           }
          ],
          "surface": [
           {
            "colorbar": {
             "outlinewidth": 0,
             "ticks": ""
            },
            "colorscale": [
             [
              0,
              "#0d0887"
             ],
             [
              0.1111111111111111,
              "#46039f"
             ],
             [
              0.2222222222222222,
              "#7201a8"
             ],
             [
              0.3333333333333333,
              "#9c179e"
             ],
             [
              0.4444444444444444,
              "#bd3786"
             ],
             [
              0.5555555555555556,
              "#d8576b"
             ],
             [
              0.6666666666666666,
              "#ed7953"
             ],
             [
              0.7777777777777778,
              "#fb9f3a"
             ],
             [
              0.8888888888888888,
              "#fdca26"
             ],
             [
              1,
              "#f0f921"
             ]
            ],
            "type": "surface"
           }
          ],
          "table": [
           {
            "cells": {
             "fill": {
              "color": "#EBF0F8"
             },
             "line": {
              "color": "white"
             }
            },
            "header": {
             "fill": {
              "color": "#C8D4E3"
             },
             "line": {
              "color": "white"
             }
            },
            "type": "table"
           }
          ]
         },
         "layout": {
          "annotationdefaults": {
           "arrowcolor": "#2a3f5f",
           "arrowhead": 0,
           "arrowwidth": 1
          },
          "autotypenumbers": "strict",
          "coloraxis": {
           "colorbar": {
            "outlinewidth": 0,
            "ticks": ""
           }
          },
          "colorscale": {
           "diverging": [
            [
             0,
             "#8e0152"
            ],
            [
             0.1,
             "#c51b7d"
            ],
            [
             0.2,
             "#de77ae"
            ],
            [
             0.3,
             "#f1b6da"
            ],
            [
             0.4,
             "#fde0ef"
            ],
            [
             0.5,
             "#f7f7f7"
            ],
            [
             0.6,
             "#e6f5d0"
            ],
            [
             0.7,
             "#b8e186"
            ],
            [
             0.8,
             "#7fbc41"
            ],
            [
             0.9,
             "#4d9221"
            ],
            [
             1,
             "#276419"
            ]
           ],
           "sequential": [
            [
             0,
             "#0d0887"
            ],
            [
             0.1111111111111111,
             "#46039f"
            ],
            [
             0.2222222222222222,
             "#7201a8"
            ],
            [
             0.3333333333333333,
             "#9c179e"
            ],
            [
             0.4444444444444444,
             "#bd3786"
            ],
            [
             0.5555555555555556,
             "#d8576b"
            ],
            [
             0.6666666666666666,
             "#ed7953"
            ],
            [
             0.7777777777777778,
             "#fb9f3a"
            ],
            [
             0.8888888888888888,
             "#fdca26"
            ],
            [
             1,
             "#f0f921"
            ]
           ],
           "sequentialminus": [
            [
             0,
             "#0d0887"
            ],
            [
             0.1111111111111111,
             "#46039f"
            ],
            [
             0.2222222222222222,
             "#7201a8"
            ],
            [
             0.3333333333333333,
             "#9c179e"
            ],
            [
             0.4444444444444444,
             "#bd3786"
            ],
            [
             0.5555555555555556,
             "#d8576b"
            ],
            [
             0.6666666666666666,
             "#ed7953"
            ],
            [
             0.7777777777777778,
             "#fb9f3a"
            ],
            [
             0.8888888888888888,
             "#fdca26"
            ],
            [
             1,
             "#f0f921"
            ]
           ]
          },
          "colorway": [
           "#636efa",
           "#EF553B",
           "#00cc96",
           "#ab63fa",
           "#FFA15A",
           "#19d3f3",
           "#FF6692",
           "#B6E880",
           "#FF97FF",
           "#FECB52"
          ],
          "font": {
           "color": "#2a3f5f"
          },
          "geo": {
           "bgcolor": "white",
           "lakecolor": "white",
           "landcolor": "#E5ECF6",
           "showlakes": true,
           "showland": true,
           "subunitcolor": "white"
          },
          "hoverlabel": {
           "align": "left"
          },
          "hovermode": "closest",
          "mapbox": {
           "style": "light"
          },
          "paper_bgcolor": "white",
          "plot_bgcolor": "#E5ECF6",
          "polar": {
           "angularaxis": {
            "gridcolor": "white",
            "linecolor": "white",
            "ticks": ""
           },
           "bgcolor": "#E5ECF6",
           "radialaxis": {
            "gridcolor": "white",
            "linecolor": "white",
            "ticks": ""
           }
          },
          "scene": {
           "xaxis": {
            "backgroundcolor": "#E5ECF6",
            "gridcolor": "white",
            "gridwidth": 2,
            "linecolor": "white",
            "showbackground": true,
            "ticks": "",
            "zerolinecolor": "white"
           },
           "yaxis": {
            "backgroundcolor": "#E5ECF6",
            "gridcolor": "white",
            "gridwidth": 2,
            "linecolor": "white",
            "showbackground": true,
            "ticks": "",
            "zerolinecolor": "white"
           },
           "zaxis": {
            "backgroundcolor": "#E5ECF6",
            "gridcolor": "white",
            "gridwidth": 2,
            "linecolor": "white",
            "showbackground": true,
            "ticks": "",
            "zerolinecolor": "white"
           }
          },
          "shapedefaults": {
           "line": {
            "color": "#2a3f5f"
           }
          },
          "ternary": {
           "aaxis": {
            "gridcolor": "white",
            "linecolor": "white",
            "ticks": ""
           },
           "baxis": {
            "gridcolor": "white",
            "linecolor": "white",
            "ticks": ""
           },
           "bgcolor": "#E5ECF6",
           "caxis": {
            "gridcolor": "white",
            "linecolor": "white",
            "ticks": ""
           }
          },
          "title": {
           "x": 0.05
          },
          "xaxis": {
           "automargin": true,
           "gridcolor": "white",
           "linecolor": "white",
           "ticks": "",
           "title": {
            "standoff": 15
           },
           "zerolinecolor": "white",
           "zerolinewidth": 2
          },
          "yaxis": {
           "automargin": true,
           "gridcolor": "white",
           "linecolor": "white",
           "ticks": "",
           "title": {
            "standoff": 15
           },
           "zerolinecolor": "white",
           "zerolinewidth": 2
          }
         }
        },
        "title": {
         "text": "Población de algunos países"
        },
        "xaxis": {
         "anchor": "y",
         "domain": [
          0,
          1
         ],
         "title": {
          "text": "País"
         }
        },
        "yaxis": {
         "anchor": "x",
         "domain": [
          0,
          1
         ],
         "title": {
          "text": "Población (millones)"
         }
        }
       }
      }
     },
     "metadata": {},
     "output_type": "display_data"
    }
   ],
   "source": [
    "# Crear un DataFrame con datos de población de algunos países\n",
    "data = {\n",
    "    'País': ['Estados Unidos', 'China', 'India', 'Brasil', 'Rusia'],\n",
    "    'Población (millones)': [331, 1441, 1393, 213, 146],\n",
    "}\n",
    "\n",
    "df = pd.DataFrame(data)\n",
    "\n",
    "# Crear el gráfico interactivo utilizando Plotly Express\n",
    "fig = px.bar(df, x='País', y='Población (millones)', title='Población de algunos países')\n",
    "\n",
    "# Mostrar el gráfico interactivo en el Jupyter Notebook\n",
    "fig.show()"
   ]
  },
  {
   "cell_type": "markdown",
   "metadata": {},
   "source": [
    "# Ahora vamos a crear un gráfico interactivo en un dataset ya conocido por nosotros"
   ]
  },
  {
   "cell_type": "markdown",
   "metadata": {},
   "source": [
    "### Importamos nuevamente el CSV de YouTube Statistics"
   ]
  },
  {
   "cell_type": "code",
   "execution_count": 21,
   "metadata": {},
   "outputs": [],
   "source": [
    "### Dataset de Estadísticas Globales de YouTube\n",
    "### Dataset link: https://www.kaggle.com/datasets/nelgiriyewithana/global-youtube-statistics-2023/data\n",
    "df = pd.read_csv(\"Global YouTube Statistics.csv\", encoding='ISO-8859-1')"
   ]
  },
  {
   "cell_type": "markdown",
   "metadata": {},
   "source": [
    "### Realizamos la limpieza de outliers"
   ]
  },
  {
   "cell_type": "code",
   "execution_count": 22,
   "metadata": {},
   "outputs": [],
   "source": [
    "# Lista de columnas con outliers\n",
    "columns_with_outliers = ['subscribers', 'video views', 'uploads', 'video_views_rank',\n",
    "                          'country_rank', 'channel_type_rank', 'video_views_for_the_last_30_days',\n",
    "                          'lowest_monthly_earnings', 'highest_monthly_earnings',\n",
    "                          'lowest_yearly_earnings', 'highest_yearly_earnings',\n",
    "                          'subscribers_for_last_30_days']\n",
    "\n",
    "# Definir una función para eliminar outliers basados en el IQR\n",
    "def remove_outliers(df, column):\n",
    "    Q1 = df[column].quantile(0.25)\n",
    "    Q3 = df[column].quantile(0.75)\n",
    "    IQR = Q3 - Q1\n",
    "    lower_bound = Q1 - 1.5 * IQR\n",
    "    upper_bound = Q3 + 1.5 * IQR\n",
    "    df = df[(df[column] >= lower_bound) & (df[column] <= upper_bound)]\n",
    "    return df\n",
    "\n",
    "# Eliminar outliers en las columnas especificadas\n",
    "for col in columns_with_outliers:\n",
    "    df = remove_outliers(df, col)\n",
    "\n",
    "# Ahora df no tiene outliers en las columnas especificadas"
   ]
  },
  {
   "cell_type": "markdown",
   "metadata": {},
   "source": [
    "### Creamos el gráfico de dispersión interactivo, en este caso el tamaño de los círculos va a estar dado por los uploads y el eje X por suscriptores y el eje Y por Views"
   ]
  },
  {
   "cell_type": "code",
   "execution_count": 6,
   "metadata": {},
   "outputs": [
    {
     "data": {
      "application/vnd.plotly.v1+json": {
       "config": {
        "plotlyServerURL": "https://plot.ly"
       },
       "data": [
        {
         "hovertemplate": "<b>%{hovertext}</b><br><br>category=Music<br>subscribers=%{x}<br>video views=%{y}<br>uploads=%{marker.size}<extra></extra>",
         "hovertext": [
          "XXXTENTACION",
          "Daddy Yankee",
          "Bruno Mars",
          "Ozuna",
          "Geet MP3",
          "J Balvin",
          "ImagineDragons",
          "Adele",
          "Michael Jackson",
          "toycantando",
          "Wiz Khalifa",
          "David Guetta",
          "Nicki Minaj",
          "Post Malone",
          "Coldplay",
          "EminemVEVO",
          "KatyPerryVEVO",
          "Enrique Iglesias",
          "NickyJamTV",
          "toyorbabytv",
          "The Chainsmokers",
          "Charlie Puth",
          "Dua Lipa",
          "Becky G",
          "Emiway Bantai",
          "Gusttavo Lima Oficial",
          "Calvin Harris",
          "Farruko",
          "RsiamMusic : ï¿½ï¿½ï¿½ï¿½ï¿½ï¿½ï¿½ï¿½",
          "Queen Official",
          "Pop Chartbusters",
          "Camila Cabello",
          "MK MUSIC",
          "Camilo",
          "DM - Desi Melodies",
          "Zee Music Classic",
          "Katakit Baby TV",
          "Genierock",
          "zayn",
          "SRK MUSIC",
          "AdeleVEVO",
          "50 Cent",
          "melanie martinez",
          "Camila Loures",
          "O Reino Infantil",
          "Aadishakti Films",
          "Hear This Music",
          "Neha Kakkar",
          "Lana Del Rey",
          "Luli Pampï¿½",
          "Atlantic Records",
          "Think Music India",
          "Lindsey Stirling",
          "Awakening Music",
          "Lokdhun Punjabi",
          "Lofi Girl",
          "Akon",
          "Rauw Alejandro",
          "EnriqueIglesiasVEVO",
          "Duo Tiempo De Sol",
          "elcarteldesantatv",
          "Mundo Bita",
          "Migos ATL"
         ],
         "legendgroup": "Music",
         "marker": {
          "color": "#636efa",
          "size": [
           133,
           505,
           99,
           196,
           679,
           141,
           92,
           15,
           15,
           619,
           682,
           749,
           42,
           78,
           398,
           104,
           175,
           443,
           392,
           1159,
           180,
           157,
           164,
           78,
           239,
           416,
           79,
           217,
           3159,
           1015,
           2235,
           80,
           5105,
           132,
           79,
           1640,
           220,
           1725,
           21,
           5056,
           52,
           419,
           127,
           3978,
           1206,
           4790,
           39,
           149,
           43,
           294,
           1660,
           4978,
           199,
           814,
           1262,
           409,
           39,
           168,
           137,
           323,
           377,
           253,
           99
          ],
          "sizemode": "area",
          "sizeref": 13.735,
          "symbol": "circle"
         },
         "mode": "markers",
         "name": "Music",
         "orientation": "v",
         "showlegend": true,
         "type": "scatter",
         "x": [
          39200000,
          38000000,
          36700000,
          36200000,
          34300000,
          34100000,
          30700000,
          30200000,
          28200000,
          27700000,
          27500000,
          25700000,
          25700000,
          25500000,
          25300000,
          24700000,
          24600000,
          23800000,
          23600000,
          22900000,
          22600000,
          22000000,
          21800000,
          21300000,
          20400000,
          19900000,
          19000000,
          18800000,
          18400000,
          17000000,
          16900000,
          16300000,
          15900000,
          15900000,
          15700000,
          15700000,
          15500000,
          15400000,
          15400000,
          15200000,
          15100000,
          14900000,
          14900000,
          14700000,
          14600000,
          14500000,
          14500000,
          14100000,
          14100000,
          14000000,
          13900000,
          13800000,
          13600000,
          13500000,
          13100000,
          13000000,
          12900000,
          12900000,
          12900000,
          12800000,
          12500000,
          12500000,
          12400000
         ],
         "xaxis": "x",
         "y": [
          10507474316,
          22731415608,
          19378155425,
          23355801606,
          12746535822,
          23005313609,
          16793072362,
          14199108016,
          14412474625,
          15777682516,
          13379395501,
          17793809548,
          10242981063,
          14401218086,
          17331663193,
          20531704527,
          23755792542,
          17688774915,
          15901824841,
          16298342829,
          14231943358,
          9924807127,
          11288359365,
          10644857969,
          3579555124,
          13917423958,
          16014044618,
          9573641299,
          11544297793,
          10847948832,
          8684010451,
          6613422635,
          9198986881,
          6802382479,
          5914071870,
          5558051295,
          6386271870,
          14564170905,
          4909687948,
          6391679636,
          12413869881,
          10069000444,
          4395184343,
          4684983333,
          11182302317,
          6290721701,
          9201428420,
          2131548711,
          6884215292,
          8623705301,
          12513842343,
          11039343563,
          3764608356,
          5545936485,
          4712624489,
          1698279553,
          6300933122,
          11504090820,
          15446707595,
          6662288136,
          7489455451,
          16690788752,
          6993406259
         ],
         "yaxis": "y"
        },
        {
         "hovertemplate": "<b>%{hovertext}</b><br><br>category=Comedy<br>subscribers=%{x}<br>video views=%{y}<br>uploads=%{marker.size}<extra></extra>",
         "hovertext": [
          "Jkk Entertainment",
          "KHANDESHI MOVIES",
          "Round2hell",
          "ashish chanchlani vines",
          "Brent Rivera",
          "Bizarrap",
          "Noor Stars",
          "MissaSinfonia",
          "TheBrianMaps",
          "Prajapati News",
          "FailArmy",
          "T3ddy",
          "Harsh Beniwal",
          "The MriDul",
          "Chad Wild Clay",
          "O Que Nï¿½ï¿½ï¿½ï¿½ï¿½ï¿",
          "Franco Escamilla",
          "Make Joke Of"
         ],
         "legendgroup": "Comedy",
         "marker": {
          "color": "#EF553B",
          "size": [
           220,
           217,
           67,
           151,
           554,
           83,
           693,
           233,
           498,
           1407,
           438,
           1930,
           165,
           106,
           698,
           696,
           2483,
           62
          ],
          "sizemode": "area",
          "sizeref": 13.735,
          "symbol": "circle"
         },
         "mode": "markers",
         "name": "Comedy",
         "orientation": "v",
         "showlegend": true,
         "type": "scatter",
         "x": [
          37200000,
          33500000,
          30700000,
          29800000,
          27000000,
          20600000,
          20200000,
          17600000,
          17100000,
          17000000,
          16500000,
          16200000,
          15400000,
          15200000,
          14700000,
          13700000,
          12700000,
          12300000
         ],
         "xaxis": "x",
         "y": [
          16402066717,
          11405809704,
          3145161634,
          4457913639,
          6570935979,
          7657171980,
          2764127969,
          2274007523,
          4448334716,
          1001465469,
          3037260680,
          2990185467,
          1781226000,
          4503880875,
          6751985988,
          1967930734,
          4266957149,
          2129773714
         ],
         "yaxis": "y"
        },
        {
         "hovertemplate": "<b>%{hovertext}</b><br><br>category=News & Politics<br>subscribers=%{x}<br>video views=%{y}<br>uploads=%{marker.size}<extra></extra>",
         "hovertext": [
          "YouTube",
          "DLS News"
         ],
         "legendgroup": "News & Politics",
         "marker": {
          "color": "#00cc96",
          "size": [
           744,
           4750
          ],
          "sizemode": "area",
          "sizeref": 13.735,
          "symbol": "circle"
         },
         "mode": "markers",
         "name": "News & Politics",
         "orientation": "v",
         "showlegend": true,
         "type": "scatter",
         "x": [
          36300000,
          19400000
         ],
         "xaxis": "x",
         "y": [
          3010784935,
          2255542592
         ],
         "yaxis": "y"
        },
        {
         "hovertemplate": "<b>%{hovertext}</b><br><br>category=Gaming<br>subscribers=%{x}<br>video views=%{y}<br>uploads=%{marker.size}<extra></extra>",
         "hovertext": [
          "Markiplier",
          "SSSniperWolf",
          "Dream",
          "jacksepticeye",
          "Preston",
          "SSundee",
          "MiawAug",
          "Marmok",
          "SQUEEZIE",
          "CoryxKenshin",
          "Technoblade",
          "JJ Olatunji",
          "Lyna",
          "Unspeakable",
          "FFUNTV",
          "Mobile Legends: Bang Bang",
          "EdisonPts",
          "Kwebbelkop",
          "TazerCraft",
          "PrestonPlayz",
          "Gyan Gamingï¿½",
          "TommyInnit",
          "E-MasterSensei",
          "ýýýýýýýýýýýý",
          "Jazzghost",
          "ýýýýýýýý/Atro",
          "Acenix",
          "penguinz0",
          "BanderitaX",
          "AzzyLand",
          "Morgz",
          "Timba Vk"
         ],
         "legendgroup": "Gaming",
         "marker": {
          "color": "#ab63fa",
          "size": [
           5490,
           3366,
           116,
           5114,
           4009,
           3315,
           3713,
           374,
           1521,
           1693,
           989,
           1294,
           4906,
           796,
           379,
           1647,
           3733,
           5198,
           4175,
           4009,
           3086,
           342,
           1300,
           2210,
           5494,
           1952,
           368,
           4613,
           1640,
           1749,
           825,
           1024
          ],
          "sizemode": "area",
          "sizeref": 13.735,
          "symbol": "circle"
         },
         "mode": "markers",
         "name": "Gaming",
         "orientation": "v",
         "showlegend": true,
         "type": "scatter",
         "x": [
          35200000,
          33700000,
          31700000,
          30100000,
          24000000,
          22500000,
          20200000,
          18500000,
          18100000,
          16700000,
          16300000,
          16200000,
          15900000,
          15900000,
          15400000,
          15400000,
          15100000,
          15000000,
          14900000,
          14600000,
          14400000,
          14200000,
          14200000,
          14000000,
          13900000,
          13800000,
          13600000,
          13300000,
          13300000,
          13300000,
          12600000,
          12400000
         ],
         "xaxis": "x",
         "y": [
          20297931219,
          23492684419,
          2930015381,
          16246625836,
          8279004442,
          13835173331,
          6098644584,
          3457618361,
          9983065083,
          7102965621,
          1656452554,
          4076692623,
          6534326412,
          9052367553,
          11513738907,
          1543608082,
          6668507856,
          6889304306,
          5956193599,
          5766647017,
          2224121890,
          2084791147,
          3920559552,
          7719743112,
          5673347763,
          2480957682,
          2122062016,
          7773543609,
          4129249415,
          6412313570,
          3303595310,
          2840137980
         ],
         "yaxis": "y"
        },
        {
         "hovertemplate": "<b>%{hovertext}</b><br><br>category=Film & Animation<br>subscribers=%{x}<br>video views=%{y}<br>uploads=%{marker.size}<extra></extra>",
         "hovertext": [
          "Selena Gomez",
          "Nick Jr.",
          "Pen Movies",
          "Peppa Pig Espaï¿½ï¿½ï¿½ï¿½ï¿½ï¿½ï¿½ï¿½ï¿½",
          "Goldmines Cineplex",
          "Totoy kids - Portuguï¿½",
          "Pencilmation",
          "Green Gold TV - Official Channel",
          "Wow Kidz Action",
          "Turma da Mï¿½ï¿½",
          "Les' Copaque Production",
          "Gato Galactico | GALï¿½ï¿",
          "Totoy kids - Espaï¿½ï",
          "Peppa Pig em Portuguï¿½ï¿½ï¿½ï¿½ï¿½ï¿½ï¿½ï¿½ï¿",
          "Zee Kids"
         ],
         "legendgroup": "Film & Animation",
         "marker": {
          "color": "#FFA15A",
          "size": [
           188,
           5438,
           1667,
           1251,
           3377,
           206,
           1481,
           1476,
           1525,
           1154,
           1716,
           1491,
           344,
           1365,
           1212
          ],
          "sizemode": "area",
          "sizeref": 13.735,
          "symbol": "circle"
         },
         "mode": "markers",
         "name": "Film & Animation",
         "orientation": "v",
         "showlegend": true,
         "type": "scatter",
         "x": [
          33600000,
          27300000,
          24300000,
          23600000,
          22500000,
          20400000,
          20100000,
          20000000,
          19000000,
          19000000,
          17700000,
          16800000,
          16000000,
          13100000,
          12400000
         ],
         "xaxis": "x",
         "y": [
          13013567335,
          22440611155,
          6608773195,
          7920637200,
          2431154438,
          1796227417,
          11317309935,
          9715291883,
          8281724393,
          13824277846,
          9059696049,
          3693798804,
          5997599089,
          4214172991,
          7683670251
         ],
         "yaxis": "y"
        },
        {
         "hovertemplate": "<b>%{hovertext}</b><br><br>category=Education<br>subscribers=%{x}<br>video views=%{y}<br>uploads=%{marker.size}<extra></extra>",
         "hovertext": [
          "CVS 3D Rhymes & Kids Songs",
          "infobells - Tamil",
          "BabyBus - Canciones Infantiles & Videos para Niï¿½ï",
          "Dr. Vivek Bindra: Motivational Speaker",
          "Kurzgesagt ï¿½ï¿½ï¿½ï¿½ï¿½ï¿",
          "BabyBus - Cerita & Lagu Anak-anak",
          "Kiddiestv Hindi - Nursery Rhymes & Kids Songs",
          "ýýýýýýýýýýýýýý ýýýý",
          "TED-Ed",
          "Blippi - Educational Videos for Kids",
          "El Reino a Jugar",
          "Dear Sir",
          "Infobells Bangla",
          "Daftar Populer",
          "Netflix Jr.",
          "infobells - Kannada",
          "Veritasium",
          "infobells",
          "JOJO TV - Hindi Stories",
          "The Infographics Show",
          "Right to Shiksha"
         ],
         "legendgroup": "Education",
         "marker": {
          "color": "#19d3f3",
          "size": [
           338,
           555,
           1251,
           896,
           193,
           875,
           226,
           60,
           2072,
           707,
           1007,
           633,
           359,
           3810,
           1996,
           433,
           369,
           495,
           1097,
           4279,
           2044
          ],
          "sizemode": "area",
          "sizeref": 13.735,
          "symbol": "circle"
         },
         "mode": "markers",
         "name": "Education",
         "orientation": "v",
         "showlegend": true,
         "type": "scatter",
         "x": [
          33400000,
          28900000,
          22900000,
          20900000,
          20800000,
          20300000,
          20200000,
          19000000,
          18800000,
          18100000,
          17200000,
          15800000,
          15500000,
          15100000,
          14700000,
          14200000,
          13900000,
          13700000,
          13600000,
          13200000,
          12800000
         ],
         "xaxis": "x",
         "y": [
          20269857567,
          17930570614,
          13206471140,
          1693149479,
          2378448129,
          11819051552,
          7274150246,
          4924054368,
          3654621568,
          14857290259,
          11445492404,
          1349288771,
          7776706184,
          2143140898,
          8882319696,
          6554000320,
          2165885634,
          5178142148,
          5141201173,
          5263540904,
          7876740921
         ],
         "yaxis": "y"
        },
        {
         "hovertemplate": "<b>%{hovertext}</b><br><br>category=Shows<br>subscribers=%{x}<br>video views=%{y}<br>uploads=%{marker.size}<extra></extra>",
         "hovertext": [
          "Mr Bean",
          "MGC Playhouse",
          "ýýýýýýýý ýý ýýýýýýýý",
          "Kids TV India Hindi Nursery Rhymes",
          "ýýýýýýýý ýýýý ýýýýýýýýýýýýýý"
         ],
         "legendgroup": "Shows",
         "marker": {
          "color": "#FF6692",
          "size": [
           3091,
           1426,
           1021,
           1505,
           1255
          ],
          "sizemode": "area",
          "sizeref": 13.735,
          "symbol": "circle"
         },
         "mode": "markers",
         "name": "Shows",
         "orientation": "v",
         "showlegend": true,
         "type": "scatter",
         "x": [
          32100000,
          17900000,
          15500000,
          13800000,
          12900000
         ],
         "xaxis": "x",
         "y": [
          10602236110,
          16174530046,
          8265129639,
          6646953396,
          5585085130
         ],
         "yaxis": "y"
        },
        {
         "hovertemplate": "<b>%{hovertext}</b><br><br>category=Entertainment<br>subscribers=%{x}<br>video views=%{y}<br>uploads=%{marker.size}<extra></extra>",
         "hovertext": [
          "DONA ï¿½ï¿½",
          "Crazy XYZ",
          "Renato Garcia YT",
          "MrBeast en Espaï¿½ï",
          "James Charles",
          "Juan De Dios Pantoja",
          "Sesame Street",
          "DrossRotzank",
          "Kinder Spielzeug Kanal (Kidibli)",
          "Infinite",
          "Lyrical Lemonade",
          "Ninja Kidz TV",
          "Got Talent Global",
          "CookieSwirlC",
          "Gordon Ramsay",
          "Britain's Got Talent",
          "tabii Urdu",
          "RKD Studios",
          "Sidemen",
          "ýýýýýýýýýýýýýýýýýýýýýý",
          "Shemaroo Comedy",
          "Miley Cyrus",
          "RobleisIUTU",
          "Like Nastya VNM",
          "Fun For Kids TV - Hindi Rhymes",
          "VICE",
          "Like Nastya IDN",
          "With Kids[ï¿½ï¿½ï¿½ï¿½ï",
          "Jordan Matter",
          "ýýýýýýýý ýýýýýýýýýýýýýýýýýýýýýý",
          "Bollywood Classics",
          "Juliana Baltar",
          "Kashvi Adlakha",
          "XpressTV",
          "THE BROWN SIBLINGS",
          "A2 Motivation by Arvind Arora",
          "Doc Tops",
          "Bie The Ska",
          "Crescendo com Luluca",
          "karameeshchannel",
          "Airrack",
          "Goldmines Premiere",
          "Lady Diana",
          "Vijay Kumar Viner Vlogs",
          "Vogue",
          "BIBO ï¿½ï¿½ï¿½ï¿½ï¿½ï¿",
          "MC Divertida",
          "Davie504",
          "Top Viral Talent",
          "YoungBoy Never Broke Again"
         ],
         "legendgroup": "Entertainment",
         "marker": {
          "color": "#B6E880",
          "size": [
           166,
           1259,
           3956,
           67,
           505,
           226,
           3657,
           1598,
           999,
           1608,
           420,
           296,
           1245,
           3774,
           1527,
           4225,
           1306,
           847,
           312,
           530,
           4487,
           142,
           1344,
           602,
           149,
           3900,
           502,
           920,
           413,
           421,
           1444,
           2019,
           1525,
           724,
           965,
           3168,
           490,
           1540,
           1307,
           2254,
           173,
           975,
           1403,
           1357,
           3166,
           192,
           413,
           838,
           1598,
           142
          ],
          "sizemode": "area",
          "sizeref": 13.735,
          "symbol": "circle"
         },
         "mode": "markers",
         "name": "Entertainment",
         "orientation": "v",
         "showlegend": true,
         "type": "scatter",
         "x": [
          31700000,
          27300000,
          26900000,
          24200000,
          23900000,
          23600000,
          23300000,
          23000000,
          22200000,
          21300000,
          21000000,
          20500000,
          20300000,
          20100000,
          20000000,
          19700000,
          19600000,
          19500000,
          18800000,
          18800000,
          18600000,
          18300000,
          17900000,
          17900000,
          17500000,
          16900000,
          16800000,
          16700000,
          16600000,
          16500000,
          16300000,
          15600000,
          15500000,
          15000000,
          15000000,
          15000000,
          14600000,
          14100000,
          14000000,
          13900000,
          13800000,
          13700000,
          13500000,
          13500000,
          13300000,
          13200000,
          13200000,
          13000000,
          12900000,
          12700000
         ],
         "xaxis": "x",
         "y": [
          21031745531,
          7705492350,
          7938616641,
          2700914170,
          4067878931,
          2135644776,
          22471357411,
          6041264489,
          11136266461,
          5141834668,
          10631638628,
          11009148579,
          2441288701,
          23353115850,
          3875172235,
          11323617496,
          8779729549,
          5234251168,
          5257834105,
          9594188708,
          6047584292,
          7760819588,
          5168721499,
          9867515979,
          7612385622,
          4609753237,
          7195314800,
          8826138204,
          5819508534,
          2440934034,
          7141825267,
          3869457097,
          12714141740,
          4008801873,
          8658553456,
          8932038210,
          2613197447,
          4627069704,
          5094050461,
          9106781518,
          2224911030,
          1973638757,
          8265920659,
          7958771872,
          4177184071,
          1148422000,
          5224764969,
          2683297849,
          3643698504,
          13174393401
         ],
         "yaxis": "y"
        },
        {
         "hovertemplate": "<b>%{hovertext}</b><br><br>category=People & Blogs<br>subscribers=%{x}<br>video views=%{y}<br>uploads=%{marker.size}<extra></extra>",
         "hovertext": [
          "Rans Entertainment",
          "WB Kids",
          "Diana and Roma EN",
          "Lady Gaga",
          "TED",
          "Vania Mania Kids",
          "mmoshaya",
          "Tekashi 6ix9ine",
          "The Royalty Family",
          "Baim Paula",
          "Jake Paul",
          "Crafty Panda",
          "JukiLop",
          "Like Nastya Vlog",
          "David Dobrik",
          "KatieAngel",
          "tanboy kun",
          "Arif muhammad",
          "Blippi Espaï¿½ï",
          "PowerfulJRE",
          "Mohamed Ramadan I ï¿½ï¿½ï¿½ï¿½ï¿½ï¿½ï",
          "Indore Physical Academy",
          "Super Polina",
          "TV Ana Emilia",
          "123 GO! Spanish",
          "ýýýýýýýýýýýýýýýýýý",
          "Kids Lineï¿½ï¿½ï¿½ï¿½ï¿½ï¿½ï¿½",
          "Painzeiro",
          "ýýýýýýýýýýýýýýý Ms Yeah",
          "RaptorGamer",
          "Pastor Antï¿½ï¿½ï¿½ï¿½ï",
          "CaseyNeistat",
          "ýýýýýýýýýSULGI",
          "Free Fire India Official"
         ],
         "legendgroup": "People & Blogs",
         "marker": {
          "color": "#FECB52",
          "size": [
           3716,
           2025,
           511,
           172,
           4445,
           985,
           1189,
           51,
           733,
           2325,
           1006,
           760,
           85,
           493,
           536,
           982,
           739,
           542,
           598,
           1037,
           753,
           1838,
           576,
           651,
           520,
           608,
           2742,
           1077,
           435,
           1444,
           4712,
           1101,
           683,
           1500
          ],
          "sizemode": "area",
          "sizeref": 13.735,
          "symbol": "circle"
         },
         "mode": "markers",
         "name": "People & Blogs",
         "orientation": "v",
         "showlegend": true,
         "type": "scatter",
         "x": [
          25400000,
          25200000,
          23900000,
          23200000,
          23100000,
          22700000,
          22600000,
          21500000,
          21300000,
          21100000,
          20400000,
          19800000,
          19400000,
          18500000,
          17900000,
          17900000,
          17700000,
          15800000,
          15500000,
          15100000,
          15100000,
          14400000,
          14300000,
          14000000,
          13800000,
          13300000,
          13300000,
          13100000,
          13100000,
          13100000,
          12900000,
          12600000,
          12600000,
          12300000
         ],
         "xaxis": "x",
         "y": [
          6430853035,
          11081602368,
          7213499085,
          15751661213,
          2551113422,
          10115316784,
          17507060680,
          5890180734,
          6269945014,
          4526271677,
          7311322368,
          5759442450,
          1577859332,
          8147575884,
          7176572299,
          3841205465,
          3647267655,
          4122634467,
          8984089026,
          3060202847,
          5324913850,
          4156427797,
          4776507159,
          4674164601,
          5019136690,
          6482687220,
          9088562002,
          2555801802,
          4399833602,
          2879263916,
          2112274210,
          3152402405,
          3485373675,
          1674409945
         ],
         "yaxis": "y"
        },
        {
         "hovertemplate": "<b>%{hovertext}</b><br><br>category=Science & Technology<br>subscribers=%{x}<br>video views=%{y}<br>uploads=%{marker.size}<extra></extra>",
         "hovertext": [
          "Mark Rober",
          "Apple",
          "Marques Brownlee",
          "Hacksmith Industries",
          "Trakin Tech",
          "Technology Gyan"
         ],
         "legendgroup": "Science & Technology",
         "marker": {
          "color": "#636efa",
          "size": [
           120,
           180,
           1567,
           887,
           3640,
           1022
          ],
          "sizemode": "area",
          "sizeref": 13.735,
          "symbol": "circle"
         },
         "mode": "markers",
         "name": "Science & Technology",
         "orientation": "v",
         "showlegend": true,
         "type": "scatter",
         "x": [
          24600000,
          17300000,
          17200000,
          13800000,
          13300000,
          13200000
         ],
         "xaxis": "x",
         "y": [
          3647987299,
          1026425106,
          3606912471,
          1820559912,
          2262690743,
          1138262456
         ],
         "yaxis": "y"
        },
        {
         "hovertemplate": "<b>%{hovertext}</b><br><br>category=Howto & Style<br>subscribers=%{x}<br>video views=%{y}<br>uploads=%{marker.size}<extra></extra>",
         "hovertext": [
          "Troom Troom",
          "5-Minute Crafts PLAY",
          "SUPER SLICK SLIME SAM",
          "Manual do Mundo",
          "ýýýýýýýýý Liziqi",
          "ýýýýýýýý ýýýýýýýýýýýýýý ýýýý 5 ýýýýýýýýýý",
          "Mis Pastelitos",
          "NishaMadhulika",
          "Wengie",
          "Blossom",
          "First We Feast",
          "bharatzkitchen HINDI"
         ],
         "legendgroup": "Howto & Style",
         "marker": {
          "color": "#EF553B",
          "size": [
           2425,
           5491,
           903,
           2470,
           128,
           5183,
           603,
           2158,
           462,
           812,
           1076,
           729
          ],
          "sizemode": "area",
          "sizeref": 13.735,
          "symbol": "circle"
         },
         "mode": "markers",
         "name": "Howto & Style",
         "orientation": "v",
         "showlegend": true,
         "type": "scatter",
         "x": [
          23800000,
          20100000,
          19000000,
          18000000,
          17600000,
          15500000,
          14600000,
          13700000,
          13500000,
          12700000,
          12500000,
          12400000
         ],
         "xaxis": "x",
         "y": [
          10414479943,
          6119294270,
          7229175322,
          3980991248,
          2977741577,
          4499826716,
          2750902766,
          2939201386,
          1900272833,
          4733873025,
          2983799729,
          2315226648
         ],
         "yaxis": "y"
        },
        {
         "hovertemplate": "<b>%{hovertext}</b><br><br>category=Movies<br>subscribers=%{x}<br>video views=%{y}<br>uploads=%{marker.size}<extra></extra>",
         "hovertext": [
          "Ultra Movie Parlour"
         ],
         "legendgroup": "Movies",
         "marker": {
          "color": "#00cc96",
          "size": [
           1670
          ],
          "sizemode": "area",
          "sizeref": 13.735,
          "symbol": "circle"
         },
         "mode": "markers",
         "name": "Movies",
         "orientation": "v",
         "showlegend": true,
         "type": "scatter",
         "x": [
          22900000
         ],
         "xaxis": "x",
         "y": [
          5320485069
         ],
         "yaxis": "y"
        },
        {
         "hovertemplate": "<b>%{hovertext}</b><br><br>category=Autos & Vehicles<br>subscribers=%{x}<br>video views=%{y}<br>uploads=%{marker.size}<extra></extra>",
         "hovertext": [
          "DUDU e CAROL"
         ],
         "legendgroup": "Autos & Vehicles",
         "marker": {
          "color": "#ab63fa",
          "size": [
           2942
          ],
          "sizemode": "area",
          "sizeref": 13.735,
          "symbol": "circle"
         },
         "mode": "markers",
         "name": "Autos & Vehicles",
         "orientation": "v",
         "showlegend": true,
         "type": "scatter",
         "x": [
          21600000
         ],
         "xaxis": "x",
         "y": [
          9597894786
         ],
         "yaxis": "y"
        },
        {
         "hovertemplate": "<b>%{hovertext}</b><br><br>category=Pets & Animals<br>subscribers=%{x}<br>video views=%{y}<br>uploads=%{marker.size}<extra></extra>",
         "hovertext": [
          "Brave Wilderness"
         ],
         "legendgroup": "Pets & Animals",
         "marker": {
          "color": "#FFA15A",
          "size": [
           982
          ],
          "sizemode": "area",
          "sizeref": 13.735,
          "symbol": "circle"
         },
         "mode": "markers",
         "name": "Pets & Animals",
         "orientation": "v",
         "showlegend": true,
         "type": "scatter",
         "x": [
          20900000
         ],
         "xaxis": "x",
         "y": [
          4927879069
         ],
         "yaxis": "y"
        },
        {
         "hovertemplate": "<b>%{hovertext}</b><br><br>category=Sports<br>subscribers=%{x}<br>video views=%{y}<br>uploads=%{marker.size}<extra></extra>",
         "hovertext": [
          "DALLMYD",
          "gymvirtual"
         ],
         "legendgroup": "Sports",
         "marker": {
          "color": "#19d3f3",
          "size": [
           412,
           1572
          ],
          "sizemode": "area",
          "sizeref": 13.735,
          "symbol": "circle"
         },
         "mode": "markers",
         "name": "Sports",
         "orientation": "v",
         "showlegend": true,
         "type": "scatter",
         "x": [
          13600000,
          12900000
         ],
         "xaxis": "x",
         "y": [
          1948925559,
          2509752944
         ],
         "yaxis": "y"
        }
       ],
       "layout": {
        "legend": {
         "itemsizing": "constant",
         "title": {
          "text": "category"
         },
         "tracegroupgap": 0
        },
        "showlegend": true,
        "template": {
         "data": {
          "bar": [
           {
            "error_x": {
             "color": "#2a3f5f"
            },
            "error_y": {
             "color": "#2a3f5f"
            },
            "marker": {
             "line": {
              "color": "#E5ECF6",
              "width": 0.5
             },
             "pattern": {
              "fillmode": "overlay",
              "size": 10,
              "solidity": 0.2
             }
            },
            "type": "bar"
           }
          ],
          "barpolar": [
           {
            "marker": {
             "line": {
              "color": "#E5ECF6",
              "width": 0.5
             },
             "pattern": {
              "fillmode": "overlay",
              "size": 10,
              "solidity": 0.2
             }
            },
            "type": "barpolar"
           }
          ],
          "carpet": [
           {
            "aaxis": {
             "endlinecolor": "#2a3f5f",
             "gridcolor": "white",
             "linecolor": "white",
             "minorgridcolor": "white",
             "startlinecolor": "#2a3f5f"
            },
            "baxis": {
             "endlinecolor": "#2a3f5f",
             "gridcolor": "white",
             "linecolor": "white",
             "minorgridcolor": "white",
             "startlinecolor": "#2a3f5f"
            },
            "type": "carpet"
           }
          ],
          "choropleth": [
           {
            "colorbar": {
             "outlinewidth": 0,
             "ticks": ""
            },
            "type": "choropleth"
           }
          ],
          "contour": [
           {
            "colorbar": {
             "outlinewidth": 0,
             "ticks": ""
            },
            "colorscale": [
             [
              0,
              "#0d0887"
             ],
             [
              0.1111111111111111,
              "#46039f"
             ],
             [
              0.2222222222222222,
              "#7201a8"
             ],
             [
              0.3333333333333333,
              "#9c179e"
             ],
             [
              0.4444444444444444,
              "#bd3786"
             ],
             [
              0.5555555555555556,
              "#d8576b"
             ],
             [
              0.6666666666666666,
              "#ed7953"
             ],
             [
              0.7777777777777778,
              "#fb9f3a"
             ],
             [
              0.8888888888888888,
              "#fdca26"
             ],
             [
              1,
              "#f0f921"
             ]
            ],
            "type": "contour"
           }
          ],
          "contourcarpet": [
           {
            "colorbar": {
             "outlinewidth": 0,
             "ticks": ""
            },
            "type": "contourcarpet"
           }
          ],
          "heatmap": [
           {
            "colorbar": {
             "outlinewidth": 0,
             "ticks": ""
            },
            "colorscale": [
             [
              0,
              "#0d0887"
             ],
             [
              0.1111111111111111,
              "#46039f"
             ],
             [
              0.2222222222222222,
              "#7201a8"
             ],
             [
              0.3333333333333333,
              "#9c179e"
             ],
             [
              0.4444444444444444,
              "#bd3786"
             ],
             [
              0.5555555555555556,
              "#d8576b"
             ],
             [
              0.6666666666666666,
              "#ed7953"
             ],
             [
              0.7777777777777778,
              "#fb9f3a"
             ],
             [
              0.8888888888888888,
              "#fdca26"
             ],
             [
              1,
              "#f0f921"
             ]
            ],
            "type": "heatmap"
           }
          ],
          "heatmapgl": [
           {
            "colorbar": {
             "outlinewidth": 0,
             "ticks": ""
            },
            "colorscale": [
             [
              0,
              "#0d0887"
             ],
             [
              0.1111111111111111,
              "#46039f"
             ],
             [
              0.2222222222222222,
              "#7201a8"
             ],
             [
              0.3333333333333333,
              "#9c179e"
             ],
             [
              0.4444444444444444,
              "#bd3786"
             ],
             [
              0.5555555555555556,
              "#d8576b"
             ],
             [
              0.6666666666666666,
              "#ed7953"
             ],
             [
              0.7777777777777778,
              "#fb9f3a"
             ],
             [
              0.8888888888888888,
              "#fdca26"
             ],
             [
              1,
              "#f0f921"
             ]
            ],
            "type": "heatmapgl"
           }
          ],
          "histogram": [
           {
            "marker": {
             "pattern": {
              "fillmode": "overlay",
              "size": 10,
              "solidity": 0.2
             }
            },
            "type": "histogram"
           }
          ],
          "histogram2d": [
           {
            "colorbar": {
             "outlinewidth": 0,
             "ticks": ""
            },
            "colorscale": [
             [
              0,
              "#0d0887"
             ],
             [
              0.1111111111111111,
              "#46039f"
             ],
             [
              0.2222222222222222,
              "#7201a8"
             ],
             [
              0.3333333333333333,
              "#9c179e"
             ],
             [
              0.4444444444444444,
              "#bd3786"
             ],
             [
              0.5555555555555556,
              "#d8576b"
             ],
             [
              0.6666666666666666,
              "#ed7953"
             ],
             [
              0.7777777777777778,
              "#fb9f3a"
             ],
             [
              0.8888888888888888,
              "#fdca26"
             ],
             [
              1,
              "#f0f921"
             ]
            ],
            "type": "histogram2d"
           }
          ],
          "histogram2dcontour": [
           {
            "colorbar": {
             "outlinewidth": 0,
             "ticks": ""
            },
            "colorscale": [
             [
              0,
              "#0d0887"
             ],
             [
              0.1111111111111111,
              "#46039f"
             ],
             [
              0.2222222222222222,
              "#7201a8"
             ],
             [
              0.3333333333333333,
              "#9c179e"
             ],
             [
              0.4444444444444444,
              "#bd3786"
             ],
             [
              0.5555555555555556,
              "#d8576b"
             ],
             [
              0.6666666666666666,
              "#ed7953"
             ],
             [
              0.7777777777777778,
              "#fb9f3a"
             ],
             [
              0.8888888888888888,
              "#fdca26"
             ],
             [
              1,
              "#f0f921"
             ]
            ],
            "type": "histogram2dcontour"
           }
          ],
          "mesh3d": [
           {
            "colorbar": {
             "outlinewidth": 0,
             "ticks": ""
            },
            "type": "mesh3d"
           }
          ],
          "parcoords": [
           {
            "line": {
             "colorbar": {
              "outlinewidth": 0,
              "ticks": ""
             }
            },
            "type": "parcoords"
           }
          ],
          "pie": [
           {
            "automargin": true,
            "type": "pie"
           }
          ],
          "scatter": [
           {
            "fillpattern": {
             "fillmode": "overlay",
             "size": 10,
             "solidity": 0.2
            },
            "type": "scatter"
           }
          ],
          "scatter3d": [
           {
            "line": {
             "colorbar": {
              "outlinewidth": 0,
              "ticks": ""
             }
            },
            "marker": {
             "colorbar": {
              "outlinewidth": 0,
              "ticks": ""
             }
            },
            "type": "scatter3d"
           }
          ],
          "scattercarpet": [
           {
            "marker": {
             "colorbar": {
              "outlinewidth": 0,
              "ticks": ""
             }
            },
            "type": "scattercarpet"
           }
          ],
          "scattergeo": [
           {
            "marker": {
             "colorbar": {
              "outlinewidth": 0,
              "ticks": ""
             }
            },
            "type": "scattergeo"
           }
          ],
          "scattergl": [
           {
            "marker": {
             "colorbar": {
              "outlinewidth": 0,
              "ticks": ""
             }
            },
            "type": "scattergl"
           }
          ],
          "scattermapbox": [
           {
            "marker": {
             "colorbar": {
              "outlinewidth": 0,
              "ticks": ""
             }
            },
            "type": "scattermapbox"
           }
          ],
          "scatterpolar": [
           {
            "marker": {
             "colorbar": {
              "outlinewidth": 0,
              "ticks": ""
             }
            },
            "type": "scatterpolar"
           }
          ],
          "scatterpolargl": [
           {
            "marker": {
             "colorbar": {
              "outlinewidth": 0,
              "ticks": ""
             }
            },
            "type": "scatterpolargl"
           }
          ],
          "scatterternary": [
           {
            "marker": {
             "colorbar": {
              "outlinewidth": 0,
              "ticks": ""
             }
            },
            "type": "scatterternary"
           }
          ],
          "surface": [
           {
            "colorbar": {
             "outlinewidth": 0,
             "ticks": ""
            },
            "colorscale": [
             [
              0,
              "#0d0887"
             ],
             [
              0.1111111111111111,
              "#46039f"
             ],
             [
              0.2222222222222222,
              "#7201a8"
             ],
             [
              0.3333333333333333,
              "#9c179e"
             ],
             [
              0.4444444444444444,
              "#bd3786"
             ],
             [
              0.5555555555555556,
              "#d8576b"
             ],
             [
              0.6666666666666666,
              "#ed7953"
             ],
             [
              0.7777777777777778,
              "#fb9f3a"
             ],
             [
              0.8888888888888888,
              "#fdca26"
             ],
             [
              1,
              "#f0f921"
             ]
            ],
            "type": "surface"
           }
          ],
          "table": [
           {
            "cells": {
             "fill": {
              "color": "#EBF0F8"
             },
             "line": {
              "color": "white"
             }
            },
            "header": {
             "fill": {
              "color": "#C8D4E3"
             },
             "line": {
              "color": "white"
             }
            },
            "type": "table"
           }
          ]
         },
         "layout": {
          "annotationdefaults": {
           "arrowcolor": "#2a3f5f",
           "arrowhead": 0,
           "arrowwidth": 1
          },
          "autotypenumbers": "strict",
          "coloraxis": {
           "colorbar": {
            "outlinewidth": 0,
            "ticks": ""
           }
          },
          "colorscale": {
           "diverging": [
            [
             0,
             "#8e0152"
            ],
            [
             0.1,
             "#c51b7d"
            ],
            [
             0.2,
             "#de77ae"
            ],
            [
             0.3,
             "#f1b6da"
            ],
            [
             0.4,
             "#fde0ef"
            ],
            [
             0.5,
             "#f7f7f7"
            ],
            [
             0.6,
             "#e6f5d0"
            ],
            [
             0.7,
             "#b8e186"
            ],
            [
             0.8,
             "#7fbc41"
            ],
            [
             0.9,
             "#4d9221"
            ],
            [
             1,
             "#276419"
            ]
           ],
           "sequential": [
            [
             0,
             "#0d0887"
            ],
            [
             0.1111111111111111,
             "#46039f"
            ],
            [
             0.2222222222222222,
             "#7201a8"
            ],
            [
             0.3333333333333333,
             "#9c179e"
            ],
            [
             0.4444444444444444,
             "#bd3786"
            ],
            [
             0.5555555555555556,
             "#d8576b"
            ],
            [
             0.6666666666666666,
             "#ed7953"
            ],
            [
             0.7777777777777778,
             "#fb9f3a"
            ],
            [
             0.8888888888888888,
             "#fdca26"
            ],
            [
             1,
             "#f0f921"
            ]
           ],
           "sequentialminus": [
            [
             0,
             "#0d0887"
            ],
            [
             0.1111111111111111,
             "#46039f"
            ],
            [
             0.2222222222222222,
             "#7201a8"
            ],
            [
             0.3333333333333333,
             "#9c179e"
            ],
            [
             0.4444444444444444,
             "#bd3786"
            ],
            [
             0.5555555555555556,
             "#d8576b"
            ],
            [
             0.6666666666666666,
             "#ed7953"
            ],
            [
             0.7777777777777778,
             "#fb9f3a"
            ],
            [
             0.8888888888888888,
             "#fdca26"
            ],
            [
             1,
             "#f0f921"
            ]
           ]
          },
          "colorway": [
           "#636efa",
           "#EF553B",
           "#00cc96",
           "#ab63fa",
           "#FFA15A",
           "#19d3f3",
           "#FF6692",
           "#B6E880",
           "#FF97FF",
           "#FECB52"
          ],
          "font": {
           "color": "#2a3f5f"
          },
          "geo": {
           "bgcolor": "white",
           "lakecolor": "white",
           "landcolor": "#E5ECF6",
           "showlakes": true,
           "showland": true,
           "subunitcolor": "white"
          },
          "hoverlabel": {
           "align": "left"
          },
          "hovermode": "closest",
          "mapbox": {
           "style": "light"
          },
          "paper_bgcolor": "white",
          "plot_bgcolor": "#E5ECF6",
          "polar": {
           "angularaxis": {
            "gridcolor": "white",
            "linecolor": "white",
            "ticks": ""
           },
           "bgcolor": "#E5ECF6",
           "radialaxis": {
            "gridcolor": "white",
            "linecolor": "white",
            "ticks": ""
           }
          },
          "scene": {
           "xaxis": {
            "backgroundcolor": "#E5ECF6",
            "gridcolor": "white",
            "gridwidth": 2,
            "linecolor": "white",
            "showbackground": true,
            "ticks": "",
            "zerolinecolor": "white"
           },
           "yaxis": {
            "backgroundcolor": "#E5ECF6",
            "gridcolor": "white",
            "gridwidth": 2,
            "linecolor": "white",
            "showbackground": true,
            "ticks": "",
            "zerolinecolor": "white"
           },
           "zaxis": {
            "backgroundcolor": "#E5ECF6",
            "gridcolor": "white",
            "gridwidth": 2,
            "linecolor": "white",
            "showbackground": true,
            "ticks": "",
            "zerolinecolor": "white"
           }
          },
          "shapedefaults": {
           "line": {
            "color": "#2a3f5f"
           }
          },
          "ternary": {
           "aaxis": {
            "gridcolor": "white",
            "linecolor": "white",
            "ticks": ""
           },
           "baxis": {
            "gridcolor": "white",
            "linecolor": "white",
            "ticks": ""
           },
           "bgcolor": "#E5ECF6",
           "caxis": {
            "gridcolor": "white",
            "linecolor": "white",
            "ticks": ""
           }
          },
          "title": {
           "x": 0.05
          },
          "xaxis": {
           "automargin": true,
           "gridcolor": "white",
           "linecolor": "white",
           "ticks": "",
           "title": {
            "standoff": 15
           },
           "zerolinecolor": "white",
           "zerolinewidth": 2
          },
          "yaxis": {
           "automargin": true,
           "gridcolor": "white",
           "linecolor": "white",
           "ticks": "",
           "title": {
            "standoff": 15
           },
           "zerolinecolor": "white",
           "zerolinewidth": 2
          }
         }
        },
        "title": {
         "text": "Relación entre Suscriptores y Visualizaciones de Video"
        },
        "xaxis": {
         "anchor": "y",
         "domain": [
          0,
          1
         ],
         "title": {
          "text": "Suscriptores"
         }
        },
        "yaxis": {
         "anchor": "x",
         "domain": [
          0,
          1
         ],
         "title": {
          "text": "Visualizaciones de Video"
         }
        }
       }
      }
     },
     "metadata": {},
     "output_type": "display_data"
    }
   ],
   "source": [
    "# Crear un gráfico de dispersión interactivo\n",
    "fig = px.scatter(df, x='subscribers', y='video views', color='category', size='uploads',\n",
    "                 hover_name='Youtuber', title='Relación entre Suscriptores y Visualizaciones de Video')\n",
    "\n",
    "# Personalizar el diseño del gráfico\n",
    "fig.update_layout(\n",
    "    xaxis_title='Suscriptores',\n",
    "    yaxis_title='Visualizaciones de Video',\n",
    "    showlegend=True\n",
    ")\n",
    "\n",
    "# Mostrar el gráfico interactivo\n",
    "fig.show()"
   ]
  },
  {
   "cell_type": "markdown",
   "metadata": {},
   "source": [
    "### Realizamos otro gráfico interactivo pero esta vez utilizando un mapamundi"
   ]
  },
  {
   "cell_type": "code",
   "execution_count": 8,
   "metadata": {},
   "outputs": [
    {
     "data": {
      "application/vnd.plotly.v1+json": {
       "config": {
        "plotlyServerURL": "https://plot.ly"
       },
       "data": [
        {
         "geo": "geo",
         "hovertemplate": "<b>%{hovertext}</b><br><br>video views=%{marker.size}<br>Latitude=%{lat}<br>Longitude=%{lon}<br>subscribers=%{marker.color}<extra></extra>",
         "hovertext": [
          "XXXTENTACION",
          "Daddy Yankee",
          "Jkk Entertainment",
          "Bruno Mars",
          "YouTube",
          "Ozuna",
          "Markiplier",
          "Geet MP3",
          "J Balvin",
          "SSSniperWolf",
          "Selena Gomez",
          "KHANDESHI MOVIES",
          "CVS 3D Rhymes & Kids Songs",
          "Mr Bean",
          "DONA ï¿½ï¿½",
          "Dream",
          "ImagineDragons",
          "Diana and Roma ESP",
          "Round2hell",
          "ýýýýýýýýýýýýýýý ýýýýýý ýýýýýýýýýýýýýýýýýý",
          "Adele",
          "jacksepticeye",
          "ashish chanchlani vines",
          "infobells - Tamil",
          "Michael Jackson",
          "toycantando",
          "Wiz Khalifa",
          "Nick Jr.",
          "Crazy XYZ",
          "Brent Rivera",
          "Renato Garcia YT",
          "David Guetta",
          "Nicki Minaj",
          "Post Malone",
          "Rans Entertainment",
          "Coldplay",
          "WB Kids",
          "EminemVEVO",
          "KatyPerryVEVO",
          "Mark Rober",
          "Pen Movies",
          "MrBeast en Espaï¿½ï",
          "shfa show India",
          "Diana and Roma ARA",
          "Preston",
          "James Charles",
          "Diana and Roma EN",
          "Troom Troom",
          "Enrique Iglesias",
          "NickyJamTV",
          "Juan De Dios Pantoja",
          "Peppa Pig Espaï¿½ï¿½ï¿½ï¿½ï¿½ï¿½ï¿½ï¿½ï¿½",
          "Sesame Street",
          "Lady Gaga",
          "TED",
          "DrossRotzank",
          "Ultra Movie Parlour",
          "toyorbabytv",
          "BabyBus - Canciones Infantiles & Videos para Niï¿½ï",
          "Vania Mania Kids",
          "The Chainsmokers",
          "mmoshaya",
          "Goldmines Cineplex",
          "Vlad and Niki Arabic",
          "SSundee",
          "Kinder Spielzeug Kanal (Kidibli)",
          "Charlie Puth",
          "Vlad and Niki ESP",
          "Dua Lipa",
          "DUDU e CAROL",
          "Tekashi 6ix9ine",
          "The Royalty Family",
          "Becky G",
          "Infinite",
          "Baim Paula",
          "Lyrical Lemonade",
          "Vlad and Niki IDN",
          "Dr. Vivek Bindra: Motivational Speaker",
          "Brave Wilderness",
          "Kurzgesagt ï¿½ï¿½ï¿½ï¿½ï¿½ï¿",
          "Bizarrap",
          "Ninja Kidz TV",
          "Totoy kids - Portuguï¿½",
          "Jake Paul",
          "Emiway Bantai",
          "Got Talent Global",
          "BabyBus - Cerita & Lagu Anak-anak",
          "Noor Stars",
          "Kiddiestv Hindi - Nursery Rhymes & Kids Songs",
          "MiawAug",
          "CookieSwirlC",
          "Pencilmation",
          "5-Minute Crafts PLAY",
          "Gordon Ramsay",
          "Green Gold TV - Official Channel",
          "Gusttavo Lima Oficial",
          "Crafty Panda",
          "Britain's Got Talent",
          "tabii Urdu",
          "RKD Studios",
          "DLS News",
          "JukiLop",
          "ýýýýýýýýýýýýýý ýýýý",
          "SUPER SLICK SLIME SAM",
          "Wow Kidz Action",
          "Turma da Mï¿½ï¿½",
          "Calvin Harris",
          "TED-Ed",
          "Sidemen",
          "Farruko",
          "ýýýýýýýýýýýýýýýýýýýýýý",
          "Shemaroo Comedy",
          "Smile Family Spanish",
          "Marmok",
          "Like Nastya Vlog",
          "RsiamMusic : ï¿½ï¿½ï¿½ï¿½ï¿½ï¿½ï¿½ï¿½",
          "Miley Cyrus",
          "SQUEEZIE",
          "Blippi - Educational Videos for Kids",
          "Manual do Mundo",
          "David Dobrik",
          "KatieAngel",
          "RobleisIUTU",
          "Like Nastya VNM",
          "MGC Playhouse",
          "tanboy kun",
          "Les' Copaque Production",
          "MissaSinfonia",
          "ýýýýýýýýý Liziqi",
          "Fun For Kids TV - Hindi Rhymes",
          "Apple",
          "Marques Brownlee",
          "El Reino a Jugar",
          "TheBrianMaps",
          "Queen Official",
          "Prajapati News",
          "Pop Chartbusters",
          "VICE",
          "Like Nastya IDN",
          "Gato Galactico | GALï¿½ï¿",
          "CoryxKenshin",
          "With Kids[ï¿½ï¿½ï¿½ï¿½ï",
          "Ivana Alawi",
          "Jordan Matter",
          "ýýýýýýýý ýýýýýýýýýýýýýýýýýýýýýý",
          "FailArmy",
          "Camila Cabello",
          "Bollywood Classics",
          "Technoblade",
          "T3ddy",
          "JJ Olatunji",
          "Vlad and Niki ARA",
          "Totoy kids - Espaï¿½ï",
          "Lyna",
          "MK MUSIC",
          "Unspeakable",
          "Camilo",
          "Dear Sir",
          "Arif muhammad",
          "DM - Desi Melodies",
          "Zee Music Classic",
          "Juliana Baltar",
          "Blippi Espaï¿½ï",
          "Katakit Baby TV",
          "Infobells Bangla",
          "ýýýýýýýý ýý ýýýýýýýý",
          "Kashvi Adlakha",
          "ýýýýýýýý ýýýýýýýýýýýýýý ýýýý 5 ýýýýýýýýýý",
          "Harsh Beniwal",
          "FFUNTV",
          "Mobile Legends: Bang Bang",
          "Genierock",
          "zayn",
          "The MriDul",
          "SRK MUSIC",
          "Daftar Populer",
          "PowerfulJRE",
          "Mohamed Ramadan I ï¿½ï¿½ï¿½ï¿½ï¿½ï¿½ï",
          "EdisonPts",
          "AdeleVEVO",
          "XpressTV",
          "Kwebbelkop",
          "THE BROWN SIBLINGS",
          "A2 Motivation by Arvind Arora",
          "50 Cent",
          "melanie martinez",
          "TazerCraft",
          "Chad Wild Clay",
          "Netflix Jr.",
          "Camila Loures",
          "Doc Tops",
          "PrestonPlayz",
          "O Reino Infantil",
          "Mis Pastelitos",
          "Lotus Music",
          "Aadishakti Films",
          "Hear This Music",
          "Gyan Gamingï¿½",
          "Indore Physical Academy",
          "Super Polina",
          "TommyInnit",
          "E-MasterSensei",
          "infobells - Kannada",
          "Neha Kakkar",
          "Lana Del Rey",
          "Bie The Ska",
          "TV Ana Emilia",
          "ýýýýýýýýýýýý",
          "Luli Pampï¿½",
          "Crescendo com Luluca",
          "Jazzghost",
          "karameeshchannel",
          "Atlantic Records",
          "ýýýýýýýý ýý ýýýýýýýýýýýý",
          "Veritasium",
          "Airrack",
          "Hacksmith Industries",
          "ýýýýýýýý/Atro",
          "123 GO! Spanish",
          "Kids TV India Hindi Nursery Rhymes",
          "Think Music India",
          "O Que Nï¿½ï¿½ï¿½ï¿½ï¿½ï¿",
          "Goldmines Premiere",
          "NishaMadhulika",
          "infobells",
          "Acenix",
          "DALLMYD",
          "Lindsey Stirling",
          "JOJO TV - Hindi Stories",
          "Awakening Music",
          "Lady Diana",
          "Vijay Kumar Viner Vlogs",
          "Wengie",
          "Vlad y Niki Show",
          "Trakin Tech",
          "Vogue",
          "ýýýýýýýýýýýýýýýýýý",
          "Kids Lineï¿½ï¿½ï¿½ï¿½ï¿½ï¿½ï¿½",
          "penguinz0",
          "BanderitaX",
          "AzzyLand",
          "BIBO ï¿½ï¿½ï¿½ï¿½ï¿½ï¿",
          "MC Divertida",
          "The Infographics Show",
          "Technology Gyan",
          "WiederDude",
          "Lokdhun Punjabi",
          "Painzeiro",
          "Peppa Pig em Portuguï¿½ï¿½ï¿½ï¿½ï¿½ï¿½ï¿½ï¿½ï¿",
          "ýýýýýýýýýýýýýýý Ms Yeah",
          "RaptorGamer",
          "Davie504",
          "Lofi Girl",
          "Pastor Antï¿½ï¿½ï¿½ï¿½ï",
          "gymvirtual",
          "Top Viral Talent",
          "Akon",
          "Rauw Alejandro",
          "EnriqueIglesiasVEVO",
          "ýýýýýýýý ýýýý ýýýýýýýýýýýýýý",
          "Duo Tiempo De Sol",
          "Right to Shiksha",
          "Franco Escamilla",
          "Diana and Roma IND",
          "YoungBoy Never Broke Again",
          "Blossom",
          "Morgz",
          "CaseyNeistat",
          "ýýýýýýýýýSULGI",
          "First We Feast",
          "elcarteldesantatv",
          "Mundo Bita",
          "Timba Vk",
          "Zee Kids",
          "bharatzkitchen HINDI",
          "Migos ATL",
          "Free Fire India Official",
          "Make Joke Of"
         ],
         "lat": [
          37.09024,
          37.09024,
          20.593684,
          37.09024,
          37.09024,
          null,
          37.09024,
          20.593684,
          4.570868,
          37.09024,
          37.09024,
          20.593684,
          20.593684,
          55.378051,
          37.09024,
          37.09024,
          37.09024,
          37.09024,
          20.593684,
          37.09024,
          55.378051,
          null,
          20.593684,
          20.593684,
          37.09024,
          4.570868,
          37.09024,
          37.09024,
          20.593684,
          37.09024,
          -14.235004,
          37.09024,
          37.09024,
          37.09024,
          -0.789275,
          55.378051,
          37.09024,
          37.09024,
          37.09024,
          37.09024,
          20.593684,
          23.634501,
          23.424076,
          37.09024,
          37.09024,
          37.09024,
          37.09024,
          37.09024,
          37.09024,
          null,
          23.634501,
          55.378051,
          37.09024,
          37.09024,
          37.09024,
          -38.416097,
          20.593684,
          30.585164,
          23.634501,
          37.09024,
          37.09024,
          23.885942,
          20.593684,
          37.09024,
          37.09024,
          37.09024,
          37.09024,
          37.09024,
          55.378051,
          -14.235004,
          37.09024,
          37.09024,
          37.09024,
          37.09024,
          -0.789275,
          37.09024,
          37.09024,
          20.593684,
          37.09024,
          51.165691,
          -38.416097,
          37.09024,
          -14.235004,
          37.09024,
          20.593684,
          55.378051,
          -0.789275,
          23.424076,
          20.593684,
          -0.789275,
          37.09024,
          37.09024,
          37.09024,
          55.378051,
          20.593684,
          -14.235004,
          37.09024,
          55.378051,
          38.963745,
          20.593684,
          20.593684,
          23.634501,
          37.09024,
          23.634501,
          20.593684,
          -14.235004,
          55.378051,
          37.09024,
          55.378051,
          37.09024,
          48.379433,
          20.593684,
          37.09024,
          61.52401,
          61.52401,
          15.870032,
          37.09024,
          46.227638,
          37.09024,
          -14.235004,
          37.09024,
          37.09024,
          -38.416097,
          14.058324,
          37.09024,
          -0.789275,
          4.210484,
          23.634501,
          35.86166,
          20.593684,
          37.09024,
          37.09024,
          -38.416097,
          61.52401,
          55.378051,
          20.593684,
          20.593684,
          37.09024,
          -0.789275,
          -14.235004,
          37.09024,
          37.09024,
          12.879721,
          37.09024,
          37.09024,
          37.09024,
          37.09024,
          20.593684,
          37.09024,
          -14.235004,
          55.378051,
          37.09024,
          23.634501,
          -38.416097,
          -14.235004,
          37.09024,
          4.570868,
          20.593684,
          -0.789275,
          20.593684,
          20.593684,
          -14.235004,
          23.634501,
          23.885942,
          20.593684,
          23.885942,
          20.593684,
          26.820553,
          20.593684,
          23.424076,
          37.09024,
          15.870032,
          37.09024,
          20.593684,
          20.593684,
          -0.789275,
          37.09024,
          26.820553,
          61.52401,
          55.378051,
          23.634501,
          37.09024,
          20.593684,
          20.593684,
          37.09024,
          37.09024,
          -14.235004,
          37.09024,
          37.09024,
          -14.235004,
          -1.831239,
          37.09024,
          -14.235004,
          23.634501,
          20.593684,
          20.593684,
          null,
          20.593684,
          20.593684,
          37.09024,
          55.378051,
          23.634501,
          20.593684,
          20.593684,
          37.09024,
          15.870032,
          23.634501,
          61.52401,
          40.463667,
          -14.235004,
          -14.235004,
          30.585164,
          37.09024,
          37.09024,
          37.09024,
          37.09024,
          56.130366,
          52.132633,
          23.634501,
          20.593684,
          20.593684,
          -14.235004,
          20.593684,
          20.593684,
          20.593684,
          40.463667,
          37.09024,
          37.09024,
          20.593684,
          55.378051,
          48.379433,
          20.593684,
          37.09024,
          37.09024,
          20.593684,
          37.09024,
          61.52401,
          37.09024,
          37.09024,
          23.885942,
          56.130366,
          61.52401,
          -14.235004,
          37.09024,
          20.593684,
          37.09024,
          20.593684,
          -14.235004,
          -14.235004,
          37.09024,
          -1.831239,
          41.87194,
          46.227638,
          -14.235004,
          40.463667,
          37.09024,
          37.09024,
          null,
          37.09024,
          48.379433,
          40.463667,
          20.593684,
          23.634501,
          37.09024,
          37.09024,
          37.09024,
          55.378051,
          37.09024,
          35.907757,
          37.09024,
          23.634501,
          -14.235004,
          40.463667,
          20.593684,
          20.593684,
          37.09024,
          20.593684,
          20.593684
         ],
         "legendgroup": "",
         "lon": [
          -95.712891,
          -95.712891,
          78.96288,
          -95.712891,
          -95.712891,
          null,
          -95.712891,
          78.96288,
          -74.297333,
          -95.712891,
          -95.712891,
          78.96288,
          78.96288,
          -3.435973,
          -95.712891,
          -95.712891,
          -95.712891,
          -95.712891,
          78.96288,
          -95.712891,
          -3.435973,
          null,
          78.96288,
          78.96288,
          -95.712891,
          -74.297333,
          -95.712891,
          -95.712891,
          78.96288,
          -95.712891,
          -51.92528,
          -95.712891,
          -95.712891,
          -95.712891,
          113.921327,
          -3.435973,
          -95.712891,
          -95.712891,
          -95.712891,
          -95.712891,
          78.96288,
          -102.552784,
          53.847818,
          -95.712891,
          -95.712891,
          -95.712891,
          -95.712891,
          -95.712891,
          -95.712891,
          null,
          -102.552784,
          -3.435973,
          -95.712891,
          -95.712891,
          -95.712891,
          -63.616672,
          78.96288,
          36.238414,
          -102.552784,
          -95.712891,
          -95.712891,
          45.079162,
          78.96288,
          -95.712891,
          -95.712891,
          -95.712891,
          -95.712891,
          -95.712891,
          -3.435973,
          -51.92528,
          -95.712891,
          -95.712891,
          -95.712891,
          -95.712891,
          113.921327,
          -95.712891,
          -95.712891,
          78.96288,
          -95.712891,
          10.451526,
          -63.616672,
          -95.712891,
          -51.92528,
          -95.712891,
          78.96288,
          -3.435973,
          113.921327,
          53.847818,
          78.96288,
          113.921327,
          -95.712891,
          -95.712891,
          -95.712891,
          -3.435973,
          78.96288,
          -51.92528,
          -95.712891,
          -3.435973,
          35.243322,
          78.96288,
          78.96288,
          -102.552784,
          -95.712891,
          -102.552784,
          78.96288,
          -51.92528,
          -3.435973,
          -95.712891,
          -3.435973,
          -95.712891,
          31.16558,
          78.96288,
          -95.712891,
          105.318756,
          105.318756,
          100.992541,
          -95.712891,
          2.213749,
          -95.712891,
          -51.92528,
          -95.712891,
          -95.712891,
          -63.616672,
          108.277199,
          -95.712891,
          113.921327,
          101.975766,
          -102.552784,
          104.195397,
          78.96288,
          -95.712891,
          -95.712891,
          -63.616672,
          105.318756,
          -3.435973,
          78.96288,
          78.96288,
          -95.712891,
          113.921327,
          -51.92528,
          -95.712891,
          -95.712891,
          121.774017,
          -95.712891,
          -95.712891,
          -95.712891,
          -95.712891,
          78.96288,
          -95.712891,
          -51.92528,
          -3.435973,
          -95.712891,
          -102.552784,
          -63.616672,
          -51.92528,
          -95.712891,
          -74.297333,
          78.96288,
          113.921327,
          78.96288,
          78.96288,
          -51.92528,
          -102.552784,
          45.079162,
          78.96288,
          45.079162,
          78.96288,
          30.802498,
          78.96288,
          53.847818,
          -95.712891,
          100.992541,
          -95.712891,
          78.96288,
          78.96288,
          113.921327,
          -95.712891,
          30.802498,
          105.318756,
          -3.435973,
          -102.552784,
          -95.712891,
          78.96288,
          78.96288,
          -95.712891,
          -95.712891,
          -51.92528,
          -95.712891,
          -95.712891,
          -51.92528,
          -78.183406,
          -95.712891,
          -51.92528,
          -102.552784,
          78.96288,
          78.96288,
          null,
          78.96288,
          78.96288,
          -95.712891,
          -3.435973,
          -102.552784,
          78.96288,
          78.96288,
          -95.712891,
          100.992541,
          -102.552784,
          105.318756,
          -3.74922,
          -51.92528,
          -51.92528,
          36.238414,
          -95.712891,
          -95.712891,
          -95.712891,
          -95.712891,
          -106.346771,
          5.291266,
          -102.552784,
          78.96288,
          78.96288,
          -51.92528,
          78.96288,
          78.96288,
          78.96288,
          -3.74922,
          -95.712891,
          -95.712891,
          78.96288,
          -3.435973,
          31.16558,
          78.96288,
          -95.712891,
          -95.712891,
          78.96288,
          -95.712891,
          105.318756,
          -95.712891,
          -95.712891,
          45.079162,
          -106.346771,
          105.318756,
          -51.92528,
          -95.712891,
          78.96288,
          -95.712891,
          78.96288,
          -51.92528,
          -51.92528,
          -95.712891,
          -78.183406,
          12.56738,
          2.213749,
          -51.92528,
          -3.74922,
          -95.712891,
          -95.712891,
          null,
          -95.712891,
          31.16558,
          -3.74922,
          78.96288,
          -102.552784,
          -95.712891,
          -95.712891,
          -95.712891,
          -3.435973,
          -95.712891,
          127.766922,
          -95.712891,
          -102.552784,
          -51.92528,
          -3.74922,
          78.96288,
          78.96288,
          -95.712891,
          78.96288,
          78.96288
         ],
         "marker": {
          "color": [
           39200000,
           38000000,
           37200000,
           36700000,
           36300000,
           36200000,
           35200000,
           34300000,
           34100000,
           33700000,
           33600000,
           33500000,
           33400000,
           32100000,
           31700000,
           31700000,
           30700000,
           30700000,
           30700000,
           30400000,
           30200000,
           30100000,
           29800000,
           28900000,
           28200000,
           27700000,
           27500000,
           27300000,
           27300000,
           27000000,
           26900000,
           25700000,
           25700000,
           25500000,
           25400000,
           25300000,
           25200000,
           24700000,
           24600000,
           24600000,
           24300000,
           24200000,
           24200000,
           24100000,
           24000000,
           23900000,
           23900000,
           23800000,
           23800000,
           23600000,
           23600000,
           23600000,
           23300000,
           23200000,
           23100000,
           23000000,
           22900000,
           22900000,
           22900000,
           22700000,
           22600000,
           22600000,
           22500000,
           22500000,
           22500000,
           22200000,
           22000000,
           22000000,
           21800000,
           21600000,
           21500000,
           21300000,
           21300000,
           21300000,
           21100000,
           21000000,
           21000000,
           20900000,
           20900000,
           20800000,
           20600000,
           20500000,
           20400000,
           20400000,
           20400000,
           20300000,
           20300000,
           20200000,
           20200000,
           20200000,
           20100000,
           20100000,
           20100000,
           20000000,
           20000000,
           19900000,
           19800000,
           19700000,
           19600000,
           19500000,
           19400000,
           19400000,
           19000000,
           19000000,
           19000000,
           19000000,
           19000000,
           18800000,
           18800000,
           18800000,
           18800000,
           18600000,
           18600000,
           18500000,
           18500000,
           18400000,
           18300000,
           18100000,
           18100000,
           18000000,
           17900000,
           17900000,
           17900000,
           17900000,
           17900000,
           17700000,
           17700000,
           17600000,
           17600000,
           17500000,
           17300000,
           17200000,
           17200000,
           17100000,
           17000000,
           17000000,
           16900000,
           16900000,
           16800000,
           16800000,
           16700000,
           16700000,
           16600000,
           16600000,
           16500000,
           16500000,
           16300000,
           16300000,
           16300000,
           16200000,
           16200000,
           16100000,
           16000000,
           15900000,
           15900000,
           15900000,
           15900000,
           15800000,
           15800000,
           15700000,
           15700000,
           15600000,
           15500000,
           15500000,
           15500000,
           15500000,
           15500000,
           15500000,
           15400000,
           15400000,
           15400000,
           15400000,
           15400000,
           15200000,
           15200000,
           15100000,
           15100000,
           15100000,
           15100000,
           15100000,
           15000000,
           15000000,
           15000000,
           15000000,
           14900000,
           14900000,
           14900000,
           14700000,
           14700000,
           14700000,
           14600000,
           14600000,
           14600000,
           14600000,
           14500000,
           14500000,
           14500000,
           14400000,
           14400000,
           14300000,
           14200000,
           14200000,
           14200000,
           14100000,
           14100000,
           14100000,
           14000000,
           14000000,
           14000000,
           14000000,
           13900000,
           13900000,
           13900000,
           13900000,
           13900000,
           13800000,
           13800000,
           13800000,
           13800000,
           13800000,
           13800000,
           13700000,
           13700000,
           13700000,
           13700000,
           13600000,
           13600000,
           13600000,
           13600000,
           13500000,
           13500000,
           13500000,
           13500000,
           13400000,
           13300000,
           13300000,
           13300000,
           13300000,
           13300000,
           13300000,
           13300000,
           13200000,
           13200000,
           13200000,
           13200000,
           13100000,
           13100000,
           13100000,
           13100000,
           13100000,
           13100000,
           13000000,
           13000000,
           12900000,
           12900000,
           12900000,
           12900000,
           12900000,
           12900000,
           12900000,
           12800000,
           12800000,
           12700000,
           12700000,
           12700000,
           12700000,
           12600000,
           12600000,
           12600000,
           12500000,
           12500000,
           12500000,
           12400000,
           12400000,
           12400000,
           12400000,
           12300000,
           12300000
          ],
          "coloraxis": "coloraxis",
          "size": [
           10507474316,
           22731415608,
           16402066717,
           19378155425,
           3010784935,
           23355801606,
           20297931219,
           12746535822,
           23005313609,
           23492684419,
           13013567335,
           11405809704,
           20269857567,
           10602236110,
           21031745531,
           2930015381,
           16793072362,
           12355992466,
           3145161634,
           17999961915,
           14199108016,
           16246625836,
           4457913639,
           17930570614,
           14412474625,
           15777682516,
           13379395501,
           22440611155,
           7705492350,
           6570935979,
           7938616641,
           17793809548,
           10242981063,
           14401218086,
           6430853035,
           17331663193,
           11081602368,
           20531704527,
           23755792542,
           3647987299,
           6608773195,
           2700914170,
           15724160183,
           11041261296,
           8279004442,
           4067878931,
           7213499085,
           10414479943,
           17688774915,
           15901824841,
           2135644776,
           7920637200,
           22471357411,
           15751661213,
           2551113422,
           6041264489,
           5320485069,
           16298342829,
           13206471140,
           10115316784,
           14231943358,
           17507060680,
           2431154438,
           10613701948,
           13835173331,
           11136266461,
           9924807127,
           8594440895,
           11288359365,
           9597894786,
           5890180734,
           6269945014,
           10644857969,
           5141834668,
           4526271677,
           10631638628,
           9789121606,
           1693149479,
           4927879069,
           2378448129,
           7657171980,
           11009148579,
           1796227417,
           7311322368,
           3579555124,
           2441288701,
           11819051552,
           2764127969,
           7274150246,
           6098644584,
           23353115850,
           11317309935,
           6119294270,
           3875172235,
           9715291883,
           13917423958,
           5759442450,
           11323617496,
           8779729549,
           5234251168,
           2255542592,
           1577859332,
           4924054368,
           7229175322,
           8281724393,
           13824277846,
           16014044618,
           3654621568,
           5257834105,
           9573641299,
           9594188708,
           6047584292,
           7008250496,
           3457618361,
           8147575884,
           11544297793,
           7760819588,
           9983065083,
           14857290259,
           3980991248,
           7176572299,
           3841205465,
           5168721499,
           9867515979,
           16174530046,
           3647267655,
           9059696049,
           2274007523,
           2977741577,
           7612385622,
           1026425106,
           3606912471,
           11445492404,
           4448334716,
           10847948832,
           1001465469,
           8684010451,
           4609753237,
           7195314800,
           3693798804,
           7102965621,
           8826138204,
           1318442641,
           5819508534,
           2440934034,
           3037260680,
           6613422635,
           7141825267,
           1656452554,
           2990185467,
           4076692623,
           7399296005,
           5997599089,
           6534326412,
           9198986881,
           9052367553,
           6802382479,
           1349288771,
           4122634467,
           5914071870,
           5558051295,
           3869457097,
           8984089026,
           6386271870,
           7776706184,
           8265129639,
           12714141740,
           4499826716,
           1781226000,
           11513738907,
           1543608082,
           14564170905,
           4909687948,
           4503880875,
           6391679636,
           2143140898,
           3060202847,
           5324913850,
           6668507856,
           12413869881,
           4008801873,
           6889304306,
           8658553456,
           8932038210,
           10069000444,
           4395184343,
           5956193599,
           6751985988,
           8882319696,
           4684983333,
           2613197447,
           5766647017,
           11182302317,
           2750902766,
           1739129375,
           6290721701,
           9201428420,
           2224121890,
           4156427797,
           4776507159,
           2084791147,
           3920559552,
           6554000320,
           2131548711,
           6884215292,
           4627069704,
           4674164601,
           7719743112,
           8623705301,
           5094050461,
           5673347763,
           9106781518,
           12513842343,
           8451754769,
           2165885634,
           2224911030,
           1820559912,
           2480957682,
           5019136690,
           6646953396,
           11039343563,
           1967930734,
           1973638757,
           2939201386,
           5178142148,
           2122062016,
           1948925559,
           3764608356,
           5141201173,
           5545936485,
           8265920659,
           7958771872,
           1900272833,
           4622628957,
           2262690743,
           4177184071,
           6482687220,
           9088562002,
           7773543609,
           4129249415,
           6412313570,
           1148422000,
           5224764969,
           5263540904,
           1138262456,
           2733682792,
           4712624489,
           2555801802,
           4214172991,
           4399833602,
           2879263916,
           2683297849,
           1698279553,
           2112274210,
           2509752944,
           3643698504,
           6300933122,
           11504090820,
           15446707595,
           5585085130,
           6662288136,
           7876740921,
           4266957149,
           5567832210,
           13174393401,
           4733873025,
           3303595310,
           3152402405,
           3485373675,
           2983799729,
           7489455451,
           16690788752,
           2840137980,
           7683670251,
           2315226648,
           6993406259,
           1674409945,
           2129773714
          ],
          "sizemode": "area",
          "sizeref": 59389481.355,
          "symbol": "circle"
         },
         "mode": "markers",
         "name": "",
         "showlegend": false,
         "type": "scattergeo"
        }
       ],
       "layout": {
        "coloraxis": {
         "colorbar": {
          "title": {
           "text": "subscribers"
          }
         },
         "colorscale": [
          [
           0,
           "#0d0887"
          ],
          [
           0.1111111111111111,
           "#46039f"
          ],
          [
           0.2222222222222222,
           "#7201a8"
          ],
          [
           0.3333333333333333,
           "#9c179e"
          ],
          [
           0.4444444444444444,
           "#bd3786"
          ],
          [
           0.5555555555555556,
           "#d8576b"
          ],
          [
           0.6666666666666666,
           "#ed7953"
          ],
          [
           0.7777777777777778,
           "#fb9f3a"
          ],
          [
           0.8888888888888888,
           "#fdca26"
          ],
          [
           1,
           "#f0f921"
          ]
         ]
        },
        "geo": {
         "center": {},
         "coastlinecolor": "Black",
         "domain": {
          "x": [
           0,
           1
          ],
          "y": [
           0,
           1
          ]
         },
         "landcolor": "LightGreen",
         "oceancolor": "LightBlue",
         "resolution": 50,
         "showcoastlines": true,
         "showland": true,
         "showocean": true
        },
        "legend": {
         "itemsizing": "constant",
         "tracegroupgap": 0
        },
        "template": {
         "data": {
          "bar": [
           {
            "error_x": {
             "color": "#2a3f5f"
            },
            "error_y": {
             "color": "#2a3f5f"
            },
            "marker": {
             "line": {
              "color": "#E5ECF6",
              "width": 0.5
             },
             "pattern": {
              "fillmode": "overlay",
              "size": 10,
              "solidity": 0.2
             }
            },
            "type": "bar"
           }
          ],
          "barpolar": [
           {
            "marker": {
             "line": {
              "color": "#E5ECF6",
              "width": 0.5
             },
             "pattern": {
              "fillmode": "overlay",
              "size": 10,
              "solidity": 0.2
             }
            },
            "type": "barpolar"
           }
          ],
          "carpet": [
           {
            "aaxis": {
             "endlinecolor": "#2a3f5f",
             "gridcolor": "white",
             "linecolor": "white",
             "minorgridcolor": "white",
             "startlinecolor": "#2a3f5f"
            },
            "baxis": {
             "endlinecolor": "#2a3f5f",
             "gridcolor": "white",
             "linecolor": "white",
             "minorgridcolor": "white",
             "startlinecolor": "#2a3f5f"
            },
            "type": "carpet"
           }
          ],
          "choropleth": [
           {
            "colorbar": {
             "outlinewidth": 0,
             "ticks": ""
            },
            "type": "choropleth"
           }
          ],
          "contour": [
           {
            "colorbar": {
             "outlinewidth": 0,
             "ticks": ""
            },
            "colorscale": [
             [
              0,
              "#0d0887"
             ],
             [
              0.1111111111111111,
              "#46039f"
             ],
             [
              0.2222222222222222,
              "#7201a8"
             ],
             [
              0.3333333333333333,
              "#9c179e"
             ],
             [
              0.4444444444444444,
              "#bd3786"
             ],
             [
              0.5555555555555556,
              "#d8576b"
             ],
             [
              0.6666666666666666,
              "#ed7953"
             ],
             [
              0.7777777777777778,
              "#fb9f3a"
             ],
             [
              0.8888888888888888,
              "#fdca26"
             ],
             [
              1,
              "#f0f921"
             ]
            ],
            "type": "contour"
           }
          ],
          "contourcarpet": [
           {
            "colorbar": {
             "outlinewidth": 0,
             "ticks": ""
            },
            "type": "contourcarpet"
           }
          ],
          "heatmap": [
           {
            "colorbar": {
             "outlinewidth": 0,
             "ticks": ""
            },
            "colorscale": [
             [
              0,
              "#0d0887"
             ],
             [
              0.1111111111111111,
              "#46039f"
             ],
             [
              0.2222222222222222,
              "#7201a8"
             ],
             [
              0.3333333333333333,
              "#9c179e"
             ],
             [
              0.4444444444444444,
              "#bd3786"
             ],
             [
              0.5555555555555556,
              "#d8576b"
             ],
             [
              0.6666666666666666,
              "#ed7953"
             ],
             [
              0.7777777777777778,
              "#fb9f3a"
             ],
             [
              0.8888888888888888,
              "#fdca26"
             ],
             [
              1,
              "#f0f921"
             ]
            ],
            "type": "heatmap"
           }
          ],
          "heatmapgl": [
           {
            "colorbar": {
             "outlinewidth": 0,
             "ticks": ""
            },
            "colorscale": [
             [
              0,
              "#0d0887"
             ],
             [
              0.1111111111111111,
              "#46039f"
             ],
             [
              0.2222222222222222,
              "#7201a8"
             ],
             [
              0.3333333333333333,
              "#9c179e"
             ],
             [
              0.4444444444444444,
              "#bd3786"
             ],
             [
              0.5555555555555556,
              "#d8576b"
             ],
             [
              0.6666666666666666,
              "#ed7953"
             ],
             [
              0.7777777777777778,
              "#fb9f3a"
             ],
             [
              0.8888888888888888,
              "#fdca26"
             ],
             [
              1,
              "#f0f921"
             ]
            ],
            "type": "heatmapgl"
           }
          ],
          "histogram": [
           {
            "marker": {
             "pattern": {
              "fillmode": "overlay",
              "size": 10,
              "solidity": 0.2
             }
            },
            "type": "histogram"
           }
          ],
          "histogram2d": [
           {
            "colorbar": {
             "outlinewidth": 0,
             "ticks": ""
            },
            "colorscale": [
             [
              0,
              "#0d0887"
             ],
             [
              0.1111111111111111,
              "#46039f"
             ],
             [
              0.2222222222222222,
              "#7201a8"
             ],
             [
              0.3333333333333333,
              "#9c179e"
             ],
             [
              0.4444444444444444,
              "#bd3786"
             ],
             [
              0.5555555555555556,
              "#d8576b"
             ],
             [
              0.6666666666666666,
              "#ed7953"
             ],
             [
              0.7777777777777778,
              "#fb9f3a"
             ],
             [
              0.8888888888888888,
              "#fdca26"
             ],
             [
              1,
              "#f0f921"
             ]
            ],
            "type": "histogram2d"
           }
          ],
          "histogram2dcontour": [
           {
            "colorbar": {
             "outlinewidth": 0,
             "ticks": ""
            },
            "colorscale": [
             [
              0,
              "#0d0887"
             ],
             [
              0.1111111111111111,
              "#46039f"
             ],
             [
              0.2222222222222222,
              "#7201a8"
             ],
             [
              0.3333333333333333,
              "#9c179e"
             ],
             [
              0.4444444444444444,
              "#bd3786"
             ],
             [
              0.5555555555555556,
              "#d8576b"
             ],
             [
              0.6666666666666666,
              "#ed7953"
             ],
             [
              0.7777777777777778,
              "#fb9f3a"
             ],
             [
              0.8888888888888888,
              "#fdca26"
             ],
             [
              1,
              "#f0f921"
             ]
            ],
            "type": "histogram2dcontour"
           }
          ],
          "mesh3d": [
           {
            "colorbar": {
             "outlinewidth": 0,
             "ticks": ""
            },
            "type": "mesh3d"
           }
          ],
          "parcoords": [
           {
            "line": {
             "colorbar": {
              "outlinewidth": 0,
              "ticks": ""
             }
            },
            "type": "parcoords"
           }
          ],
          "pie": [
           {
            "automargin": true,
            "type": "pie"
           }
          ],
          "scatter": [
           {
            "fillpattern": {
             "fillmode": "overlay",
             "size": 10,
             "solidity": 0.2
            },
            "type": "scatter"
           }
          ],
          "scatter3d": [
           {
            "line": {
             "colorbar": {
              "outlinewidth": 0,
              "ticks": ""
             }
            },
            "marker": {
             "colorbar": {
              "outlinewidth": 0,
              "ticks": ""
             }
            },
            "type": "scatter3d"
           }
          ],
          "scattercarpet": [
           {
            "marker": {
             "colorbar": {
              "outlinewidth": 0,
              "ticks": ""
             }
            },
            "type": "scattercarpet"
           }
          ],
          "scattergeo": [
           {
            "marker": {
             "colorbar": {
              "outlinewidth": 0,
              "ticks": ""
             }
            },
            "type": "scattergeo"
           }
          ],
          "scattergl": [
           {
            "marker": {
             "colorbar": {
              "outlinewidth": 0,
              "ticks": ""
             }
            },
            "type": "scattergl"
           }
          ],
          "scattermapbox": [
           {
            "marker": {
             "colorbar": {
              "outlinewidth": 0,
              "ticks": ""
             }
            },
            "type": "scattermapbox"
           }
          ],
          "scatterpolar": [
           {
            "marker": {
             "colorbar": {
              "outlinewidth": 0,
              "ticks": ""
             }
            },
            "type": "scatterpolar"
           }
          ],
          "scatterpolargl": [
           {
            "marker": {
             "colorbar": {
              "outlinewidth": 0,
              "ticks": ""
             }
            },
            "type": "scatterpolargl"
           }
          ],
          "scatterternary": [
           {
            "marker": {
             "colorbar": {
              "outlinewidth": 0,
              "ticks": ""
             }
            },
            "type": "scatterternary"
           }
          ],
          "surface": [
           {
            "colorbar": {
             "outlinewidth": 0,
             "ticks": ""
            },
            "colorscale": [
             [
              0,
              "#0d0887"
             ],
             [
              0.1111111111111111,
              "#46039f"
             ],
             [
              0.2222222222222222,
              "#7201a8"
             ],
             [
              0.3333333333333333,
              "#9c179e"
             ],
             [
              0.4444444444444444,
              "#bd3786"
             ],
             [
              0.5555555555555556,
              "#d8576b"
             ],
             [
              0.6666666666666666,
              "#ed7953"
             ],
             [
              0.7777777777777778,
              "#fb9f3a"
             ],
             [
              0.8888888888888888,
              "#fdca26"
             ],
             [
              1,
              "#f0f921"
             ]
            ],
            "type": "surface"
           }
          ],
          "table": [
           {
            "cells": {
             "fill": {
              "color": "#EBF0F8"
             },
             "line": {
              "color": "white"
             }
            },
            "header": {
             "fill": {
              "color": "#C8D4E3"
             },
             "line": {
              "color": "white"
             }
            },
            "type": "table"
           }
          ]
         },
         "layout": {
          "annotationdefaults": {
           "arrowcolor": "#2a3f5f",
           "arrowhead": 0,
           "arrowwidth": 1
          },
          "autotypenumbers": "strict",
          "coloraxis": {
           "colorbar": {
            "outlinewidth": 0,
            "ticks": ""
           }
          },
          "colorscale": {
           "diverging": [
            [
             0,
             "#8e0152"
            ],
            [
             0.1,
             "#c51b7d"
            ],
            [
             0.2,
             "#de77ae"
            ],
            [
             0.3,
             "#f1b6da"
            ],
            [
             0.4,
             "#fde0ef"
            ],
            [
             0.5,
             "#f7f7f7"
            ],
            [
             0.6,
             "#e6f5d0"
            ],
            [
             0.7,
             "#b8e186"
            ],
            [
             0.8,
             "#7fbc41"
            ],
            [
             0.9,
             "#4d9221"
            ],
            [
             1,
             "#276419"
            ]
           ],
           "sequential": [
            [
             0,
             "#0d0887"
            ],
            [
             0.1111111111111111,
             "#46039f"
            ],
            [
             0.2222222222222222,
             "#7201a8"
            ],
            [
             0.3333333333333333,
             "#9c179e"
            ],
            [
             0.4444444444444444,
             "#bd3786"
            ],
            [
             0.5555555555555556,
             "#d8576b"
            ],
            [
             0.6666666666666666,
             "#ed7953"
            ],
            [
             0.7777777777777778,
             "#fb9f3a"
            ],
            [
             0.8888888888888888,
             "#fdca26"
            ],
            [
             1,
             "#f0f921"
            ]
           ],
           "sequentialminus": [
            [
             0,
             "#0d0887"
            ],
            [
             0.1111111111111111,
             "#46039f"
            ],
            [
             0.2222222222222222,
             "#7201a8"
            ],
            [
             0.3333333333333333,
             "#9c179e"
            ],
            [
             0.4444444444444444,
             "#bd3786"
            ],
            [
             0.5555555555555556,
             "#d8576b"
            ],
            [
             0.6666666666666666,
             "#ed7953"
            ],
            [
             0.7777777777777778,
             "#fb9f3a"
            ],
            [
             0.8888888888888888,
             "#fdca26"
            ],
            [
             1,
             "#f0f921"
            ]
           ]
          },
          "colorway": [
           "#636efa",
           "#EF553B",
           "#00cc96",
           "#ab63fa",
           "#FFA15A",
           "#19d3f3",
           "#FF6692",
           "#B6E880",
           "#FF97FF",
           "#FECB52"
          ],
          "font": {
           "color": "#2a3f5f"
          },
          "geo": {
           "bgcolor": "white",
           "lakecolor": "white",
           "landcolor": "#E5ECF6",
           "showlakes": true,
           "showland": true,
           "subunitcolor": "white"
          },
          "hoverlabel": {
           "align": "left"
          },
          "hovermode": "closest",
          "mapbox": {
           "style": "light"
          },
          "paper_bgcolor": "white",
          "plot_bgcolor": "#E5ECF6",
          "polar": {
           "angularaxis": {
            "gridcolor": "white",
            "linecolor": "white",
            "ticks": ""
           },
           "bgcolor": "#E5ECF6",
           "radialaxis": {
            "gridcolor": "white",
            "linecolor": "white",
            "ticks": ""
           }
          },
          "scene": {
           "xaxis": {
            "backgroundcolor": "#E5ECF6",
            "gridcolor": "white",
            "gridwidth": 2,
            "linecolor": "white",
            "showbackground": true,
            "ticks": "",
            "zerolinecolor": "white"
           },
           "yaxis": {
            "backgroundcolor": "#E5ECF6",
            "gridcolor": "white",
            "gridwidth": 2,
            "linecolor": "white",
            "showbackground": true,
            "ticks": "",
            "zerolinecolor": "white"
           },
           "zaxis": {
            "backgroundcolor": "#E5ECF6",
            "gridcolor": "white",
            "gridwidth": 2,
            "linecolor": "white",
            "showbackground": true,
            "ticks": "",
            "zerolinecolor": "white"
           }
          },
          "shapedefaults": {
           "line": {
            "color": "#2a3f5f"
           }
          },
          "ternary": {
           "aaxis": {
            "gridcolor": "white",
            "linecolor": "white",
            "ticks": ""
           },
           "baxis": {
            "gridcolor": "white",
            "linecolor": "white",
            "ticks": ""
           },
           "bgcolor": "#E5ECF6",
           "caxis": {
            "gridcolor": "white",
            "linecolor": "white",
            "ticks": ""
           }
          },
          "title": {
           "x": 0.05
          },
          "xaxis": {
           "automargin": true,
           "gridcolor": "white",
           "linecolor": "white",
           "ticks": "",
           "title": {
            "standoff": 15
           },
           "zerolinecolor": "white",
           "zerolinewidth": 2
          },
          "yaxis": {
           "automargin": true,
           "gridcolor": "white",
           "linecolor": "white",
           "ticks": "",
           "title": {
            "standoff": 15
           },
           "zerolinecolor": "white",
           "zerolinewidth": 2
          }
         }
        },
        "title": {
         "text": "Mapa de Suscriptores y Visualizaciones de Video por Ubicación"
        }
       }
      }
     },
     "metadata": {},
     "output_type": "display_data"
    }
   ],
   "source": [
    "# Crear un mapa de dispersión geográfica\n",
    "fig = px.scatter_geo(df, \n",
    "                     lat='Latitude', lon='Longitude', \n",
    "                     color='subscribers', size='video views', \n",
    "                     hover_name='Youtuber', \n",
    "                     title='Mapa de Suscriptores y Visualizaciones de Video por Ubicación')\n",
    "\n",
    "# Personalizar el diseño del mapa\n",
    "fig.update_geos(\n",
    "    resolution=50,\n",
    "    showcoastlines=True, coastlinecolor=\"Black\",\n",
    "    showland=True, landcolor=\"LightGreen\",\n",
    "    showocean=True, oceancolor=\"LightBlue\"\n",
    ")\n",
    "\n",
    "# Mostrar el mapa interactivo\n",
    "fig.show()"
   ]
  },
  {
   "cell_type": "markdown",
   "metadata": {},
   "source": [
    "Fin."
   ]
  }
 ],
 "metadata": {
  "kernelspec": {
   "display_name": "Python 3",
   "language": "python",
   "name": "python3"
  },
  "language_info": {
   "codemirror_mode": {
    "name": "ipython",
    "version": 3
   },
   "file_extension": ".py",
   "mimetype": "text/x-python",
   "name": "python",
   "nbconvert_exporter": "python",
   "pygments_lexer": "ipython3",
   "version": "3.11.4"
  }
 },
 "nbformat": 4,
 "nbformat_minor": 2
}
