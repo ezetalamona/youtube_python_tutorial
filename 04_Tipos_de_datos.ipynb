{
 "cells": [
  {
   "cell_type": "markdown",
   "metadata": {},
   "source": [
    "## Tipos de Datos\n",
    "### Importar librerias"
   ]
  },
  {
   "cell_type": "code",
   "execution_count": 1,
   "metadata": {},
   "outputs": [],
   "source": [
    "import pandas as pd\n",
    "import numpy as np"
   ]
  },
  {
   "cell_type": "markdown",
   "metadata": {},
   "source": [
    "### Tipos de datos básicos"
   ]
  },
  {
   "cell_type": "code",
   "execution_count": 20,
   "metadata": {},
   "outputs": [],
   "source": [
    "## 1. Tipos de Datos Básicos:\n",
    "##   - Enteros (int): Representan números enteros. Ejemplo: `edad = 25`\n",
    "##   - Flotantes (float): Representan números decimales. Ejemplo: `altura = 1.75`\n",
    "##   - Cadenas (str): Representan texto. Ejemplo: `nombre = \"Juan\"`"
   ]
  },
  {
   "cell_type": "code",
   "execution_count": 21,
   "metadata": {},
   "outputs": [],
   "source": [
    "edad = 25"
   ]
  },
  {
   "cell_type": "code",
   "execution_count": 22,
   "metadata": {},
   "outputs": [
    {
     "data": {
      "text/plain": [
       "int"
      ]
     },
     "execution_count": 22,
     "metadata": {},
     "output_type": "execute_result"
    }
   ],
   "source": [
    "type(edad)"
   ]
  },
  {
   "cell_type": "code",
   "execution_count": 23,
   "metadata": {},
   "outputs": [],
   "source": [
    "altura = 1.75"
   ]
  },
  {
   "cell_type": "code",
   "execution_count": 24,
   "metadata": {},
   "outputs": [
    {
     "data": {
      "text/plain": [
       "float"
      ]
     },
     "execution_count": 24,
     "metadata": {},
     "output_type": "execute_result"
    }
   ],
   "source": [
    "type(altura)"
   ]
  },
  {
   "cell_type": "code",
   "execution_count": 25,
   "metadata": {},
   "outputs": [],
   "source": [
    "nombre = \"Juan\""
   ]
  },
  {
   "cell_type": "code",
   "execution_count": 26,
   "metadata": {},
   "outputs": [
    {
     "data": {
      "text/plain": [
       "str"
      ]
     },
     "execution_count": 26,
     "metadata": {},
     "output_type": "execute_result"
    }
   ],
   "source": [
    "type(nombre)"
   ]
  },
  {
   "cell_type": "markdown",
   "metadata": {},
   "source": [
    "### Tipos de datos estructurados"
   ]
  },
  {
   "cell_type": "code",
   "execution_count": null,
   "metadata": {},
   "outputs": [],
   "source": [
    "## 2. Tipos de Datos Estructurados:\n",
    "   ## - **Listas:** Colección ordenada y modificable. Ejemplo: `nombres = [\"Juan\", \"Ana\", \"Carlos\"]`\n",
    "   ## - **Tuplas:** Colección ordenada e inmutable. Ejemplo: `coordenadas = (10, 20)`\n",
    "   ## - **Diccionarios:** Colección desordenada de pares clave-valor. Ejemplo: `persona = {\"nombre\": \"Ana\", \"edad\": 30}`\n"
   ]
  },
  {
   "cell_type": "code",
   "execution_count": 27,
   "metadata": {},
   "outputs": [],
   "source": [
    "nombres = [\"Juan\", \"Ana\", \"Carlos\"]"
   ]
  },
  {
   "cell_type": "code",
   "execution_count": 29,
   "metadata": {},
   "outputs": [
    {
     "data": {
      "text/plain": [
       "'Carlos'"
      ]
     },
     "execution_count": 29,
     "metadata": {},
     "output_type": "execute_result"
    }
   ],
   "source": [
    "nombres[2]"
   ]
  },
  {
   "cell_type": "code",
   "execution_count": 30,
   "metadata": {},
   "outputs": [],
   "source": [
    "coordenadas = (10, 20)"
   ]
  },
  {
   "cell_type": "code",
   "execution_count": 31,
   "metadata": {},
   "outputs": [
    {
     "data": {
      "text/plain": [
       "tuple"
      ]
     },
     "execution_count": 31,
     "metadata": {},
     "output_type": "execute_result"
    }
   ],
   "source": [
    "type(coordenadas)"
   ]
  },
  {
   "cell_type": "code",
   "execution_count": null,
   "metadata": {},
   "outputs": [],
   "source": [
    "persona = {\"nombre\": \"Ana\", \"edad\": 30}"
   ]
  },
  {
   "cell_type": "markdown",
   "metadata": {},
   "source": [
    "### Crear un DataFrame a partir de una lista de diccionarios"
   ]
  },
  {
   "cell_type": "code",
   "execution_count": 32,
   "metadata": {},
   "outputs": [
    {
     "data": {
      "text/html": [
       "<div>\n",
       "<style scoped>\n",
       "    .dataframe tbody tr th:only-of-type {\n",
       "        vertical-align: middle;\n",
       "    }\n",
       "\n",
       "    .dataframe tbody tr th {\n",
       "        vertical-align: top;\n",
       "    }\n",
       "\n",
       "    .dataframe thead th {\n",
       "        text-align: right;\n",
       "    }\n",
       "</style>\n",
       "<table border=\"1\" class=\"dataframe\">\n",
       "  <thead>\n",
       "    <tr style=\"text-align: right;\">\n",
       "      <th></th>\n",
       "      <th>Nombre</th>\n",
       "      <th>Edad</th>\n",
       "      <th>Ciudad</th>\n",
       "    </tr>\n",
       "  </thead>\n",
       "  <tbody>\n",
       "    <tr>\n",
       "      <th>0</th>\n",
       "      <td>Juan</td>\n",
       "      <td>25</td>\n",
       "      <td>Ciudad A</td>\n",
       "    </tr>\n",
       "    <tr>\n",
       "      <th>1</th>\n",
       "      <td>Ana</td>\n",
       "      <td>30</td>\n",
       "      <td>Ciudad B</td>\n",
       "    </tr>\n",
       "    <tr>\n",
       "      <th>2</th>\n",
       "      <td>Carlos</td>\n",
       "      <td>35</td>\n",
       "      <td>Ciudad A</td>\n",
       "    </tr>\n",
       "  </tbody>\n",
       "</table>\n",
       "</div>"
      ],
      "text/plain": [
       "   Nombre  Edad    Ciudad\n",
       "0    Juan    25  Ciudad A\n",
       "1     Ana    30  Ciudad B\n",
       "2  Carlos    35  Ciudad A"
      ]
     },
     "execution_count": 32,
     "metadata": {},
     "output_type": "execute_result"
    }
   ],
   "source": [
    "# Lista de diccionarios con datos de personas\n",
    "datos_personas = [\n",
    "    {\"Nombre\": \"Juan\", \"Edad\": 25, \"Ciudad\": \"Ciudad A\"},\n",
    "    {\"Nombre\": \"Ana\", \"Edad\": 30, \"Ciudad\": \"Ciudad B\"},\n",
    "    {\"Nombre\": \"Carlos\", \"Edad\": 35, \"Ciudad\": \"Ciudad A\"}\n",
    "]\n",
    "\n",
    "# Crear un DataFrame a partir de la lista de diccionarios\n",
    "df_personas = pd.DataFrame(datos_personas)\n",
    "\n",
    "# Mostrar el DataFrame\n",
    "df_personas"
   ]
  },
  {
   "cell_type": "markdown",
   "metadata": {},
   "source": [
    "### Tipos de Datos Booleanos:"
   ]
  },
  {
   "cell_type": "code",
   "execution_count": 13,
   "metadata": {},
   "outputs": [],
   "source": [
    "   ## Bool:** Representa valores de verdad, `True` o `False`. Ejemplo: `es_mayor_edad = True`"
   ]
  },
  {
   "cell_type": "code",
   "execution_count": 33,
   "metadata": {},
   "outputs": [],
   "source": [
    "ejemplo_booleano = True"
   ]
  },
  {
   "cell_type": "code",
   "execution_count": 34,
   "metadata": {},
   "outputs": [
    {
     "data": {
      "text/plain": [
       "bool"
      ]
     },
     "execution_count": 34,
     "metadata": {},
     "output_type": "execute_result"
    }
   ],
   "source": [
    "type(ejemplo_booleano)"
   ]
  },
  {
   "cell_type": "markdown",
   "metadata": {},
   "source": [
    "### Librería NumPy para Datos Numéricos:"
   ]
  },
  {
   "cell_type": "code",
   "execution_count": 15,
   "metadata": {},
   "outputs": [],
   "source": [
    "## Librería NumPy para Datos Numéricos:**\n",
    "##   - Importar NumPy: `import numpy as np`\n",
    "##   - Crear un array NumPy: `edades = np.array([25, 30, 35])`\n",
    "##   - Realizar cálculos matemáticos: `media = np.mean(edades)`"
   ]
  },
  {
   "cell_type": "code",
   "execution_count": 35,
   "metadata": {},
   "outputs": [],
   "source": [
    "edades = np.array([25, 30, 35])"
   ]
  },
  {
   "cell_type": "code",
   "execution_count": 36,
   "metadata": {},
   "outputs": [],
   "source": [
    "media = np.mean(edades)"
   ]
  },
  {
   "cell_type": "code",
   "execution_count": 37,
   "metadata": {},
   "outputs": [
    {
     "name": "stdout",
     "output_type": "stream",
     "text": [
      "30.0\n"
     ]
    }
   ],
   "source": [
    "print(media)"
   ]
  },
  {
   "cell_type": "markdown",
   "metadata": {},
   "source": [
    "### Ejercicios prácticos"
   ]
  },
  {
   "cell_type": "markdown",
   "metadata": {},
   "source": [
    "#### 1er Ejercicio - Listas"
   ]
  },
  {
   "cell_type": "code",
   "execution_count": 2,
   "metadata": {},
   "outputs": [
    {
     "name": "stdout",
     "output_type": "stream",
     "text": [
      "Lista después de agregar un nombre: ['Juan', 'Ana', 'Carlos', 'Luis']\n",
      "Lista después de eliminar el segundo nombre: ['Juan', 'Carlos', 'Luis']\n"
     ]
    }
   ],
   "source": [
    "## Manipular una lista de nombres, agregar o eliminar elementos:\n",
    "\n",
    "# Lista de nombres inicial\n",
    "nombres = [\"Juan\", \"Ana\", \"Carlos\"]\n",
    "\n",
    "# Agregar un nuevo nombre al final de la lista\n",
    "nombres.append(\"Luis\")\n",
    "\n",
    "# Mostrar la lista después de la adición\n",
    "print(\"Lista después de agregar un nombre:\", nombres)\n",
    "\n",
    "# Posiciones dentro de una lista, Python en las listas siempre arranca a contar desde 0\n",
    "#Si quiero seleccionar a Juan deberia utilizar \n",
    "nombres[0]\n",
    "\n",
    "# Eliminar el segundo nombre de la lista\n",
    "nombres.pop(1)\n",
    "\n",
    "# Mostrar la lista después de la eliminación\n",
    "print(\"Lista después de eliminar el segundo nombre:\", nombres)"
   ]
  },
  {
   "cell_type": "markdown",
   "metadata": {},
   "source": [
    "#### 2do Ejercicio - Diccionarios"
   ]
  },
  {
   "cell_type": "code",
   "execution_count": 5,
   "metadata": {},
   "outputs": [],
   "source": [
    "nombres.insert(2, 'David')"
   ]
  },
  {
   "cell_type": "code",
   "execution_count": 6,
   "metadata": {},
   "outputs": [
    {
     "data": {
      "text/plain": [
       "['David', 'Juan', 'David', 'Carlos', 'Luis']"
      ]
     },
     "execution_count": 6,
     "metadata": {},
     "output_type": "execute_result"
    }
   ],
   "source": [
    "nombres"
   ]
  },
  {
   "cell_type": "code",
   "execution_count": 40,
   "metadata": {},
   "outputs": [
    {
     "name": "stdout",
     "output_type": "stream",
     "text": [
      "Información del estudiante:\n",
      "Nombre: María\n",
      "Edad: 22\n",
      "Cursos: ['Matemáticas', 'Historia', 'Inglés']\n",
      "Promedio: 8.5\n"
     ]
    }
   ],
   "source": [
    "## Utilizar un diccionario para representar información de un estudiante:**\n",
    "\n",
    "# Datos del estudiante en un diccionario\n",
    "estudiante = {\n",
    "    \"nombre\": \"María\",\n",
    "    \"edad\": 22,\n",
    "    \"cursos\": [\"Matemáticas\", \"Historia\", \"Inglés\"],\n",
    "    \"promedio\": 8.5\n",
    "}\n",
    "\n",
    "# Mostrar la información del estudiante\n",
    "print(\"Información del estudiante:\")\n",
    "print(\"Nombre:\", estudiante[\"nombre\"])\n",
    "print(\"Edad:\", estudiante[\"edad\"])\n",
    "print(\"Cursos:\", estudiante[\"cursos\"])\n",
    "print(\"Promedio:\", estudiante[\"promedio\"])"
   ]
  },
  {
   "cell_type": "code",
   "execution_count": 41,
   "metadata": {},
   "outputs": [
    {
     "data": {
      "text/plain": [
       "8.5"
      ]
     },
     "execution_count": 41,
     "metadata": {},
     "output_type": "execute_result"
    }
   ],
   "source": [
    "estudiante[\"promedio\"]"
   ]
  },
  {
   "cell_type": "code",
   "execution_count": null,
   "metadata": {},
   "outputs": [],
   "source": []
  }
 ],
 "metadata": {
  "kernelspec": {
   "display_name": "Python 3",
   "language": "python",
   "name": "python3"
  },
  "language_info": {
   "codemirror_mode": {
    "name": "ipython",
    "version": 3
   },
   "file_extension": ".py",
   "mimetype": "text/x-python",
   "name": "python",
   "nbconvert_exporter": "python",
   "pygments_lexer": "ipython3",
   "version": "3.11.4"
  }
 },
 "nbformat": 4,
 "nbformat_minor": 2
}
